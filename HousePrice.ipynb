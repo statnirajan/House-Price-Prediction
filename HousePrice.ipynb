{
 "cells": [
  {
   "cell_type": "markdown",
   "metadata": {},
   "source": [
    "# House Price Prediction using Machine Learning Algorithms"
   ]
  },
  {
   "cell_type": "markdown",
   "metadata": {},
   "source": [
    "Common tasks in supervised learning involve Classification and Regression. This project discusses a regression problem in which I attempt to predict house prices based on a number of features."
   ]
  },
  {
   "cell_type": "markdown",
   "metadata": {},
   "source": [
    "## The Data"
   ]
  },
  {
   "cell_type": "markdown",
   "metadata": {},
   "source": [
    "Data has been taken from an ongoing competition in Kaggle.  The Ames Housing Dataset contains 79 predictors/features to predict the final price of houses in the test dataset. However, for this project, I have choosen only 14 predictors of which 5 are continuous and remaining 9 are categorical. "
   ]
  },
  {
   "cell_type": "markdown",
   "metadata": {},
   "source": [
    "## Objective"
   ]
  },
  {
   "cell_type": "markdown",
   "metadata": {},
   "source": [
    "(i) To perform some basic Exploratory Data Analysis (EDA)  \n",
    "(ii) To develop and compare the performances of some widely used machine learning algorithms  \n",
    "(iii) To use the best performing algorithm for prediction in test dataset"
   ]
  },
  {
   "cell_type": "markdown",
   "metadata": {},
   "source": [
    "### Import libraries"
   ]
  },
  {
   "cell_type": "code",
   "execution_count": 1,
   "metadata": {},
   "outputs": [],
   "source": [
    "import numpy as np\n",
    "import pandas as pd\n",
    "import matplotlib.pyplot as plt\n",
    "import seaborn as sns"
   ]
  },
  {
   "cell_type": "markdown",
   "metadata": {},
   "source": [
    "### Read dataset"
   ]
  },
  {
   "cell_type": "code",
   "execution_count": 2,
   "metadata": {},
   "outputs": [],
   "source": [
    "# train dataset\n",
    "train = pd.read_excel(\"/Users/nirajanbudhathoki/OneDrive - Central Michigan University/HouseP/train1.xlsx\")"
   ]
  },
  {
   "cell_type": "code",
   "execution_count": 3,
   "metadata": {},
   "outputs": [
    {
     "data": {
      "text/plain": [
       "(1460, 15)"
      ]
     },
     "execution_count": 3,
     "metadata": {},
     "output_type": "execute_result"
    }
   ],
   "source": [
    "train.shape # 15 columns due to 'Id' Column"
   ]
  },
  {
   "cell_type": "code",
   "execution_count": 4,
   "metadata": {},
   "outputs": [],
   "source": [
    "# test dataset\n",
    "test = pd.read_excel(\"/Users/nirajanbudhathoki/OneDrive - Central Michigan University/HouseP/test1.xlsx\")"
   ]
  },
  {
   "cell_type": "code",
   "execution_count": 5,
   "metadata": {},
   "outputs": [
    {
     "data": {
      "text/plain": [
       "(1459, 14)"
      ]
     },
     "execution_count": 5,
     "metadata": {},
     "output_type": "execute_result"
    }
   ],
   "source": [
    "test.shape  # test dataset won't obviously have the target column"
   ]
  },
  {
   "cell_type": "markdown",
   "metadata": {},
   "source": [
    "### Variable Description \n",
    "Table below lists the variables used in this project. Variable type has been classified as either categorical or continuous although pandas has a further classification of continuous variables as 'float64'and 'int64' datatype while categorical variables are named 'object'. SalePrice is the target/response variable."
   ]
  },
  {
   "cell_type": "markdown",
   "metadata": {},
   "source": [
    "Variable Name|Label|Variable Type\n",
    ":-----|:-----|:-----\n",
    "HouseStyle|Style of dwelling|Categorical\n",
    "BldgType|Type of dwelling|Categorical\n",
    "LotFrontage|Linear feet of street connected to property|Continuous\n",
    "LotArea|Lot size in square feet|Continuous\n",
    "Street|Type of road access to property|Categorical\n",
    "LotShape|General shape of property|Categorical\n",
    "YearBuilt|Original construction date|Continuous\n",
    "RoofStyle|Type of roof|Categorical\n",
    "Foundation|Type of foundation|Categorical\n",
    "CentralAir|Central air conditioning|Categorical\n",
    "1stFlrSF|First Floor square feet|Continuous\n",
    "BedroomAbvGr|Bedrooms above grade|Continuous\n",
    "GarageType|Garage location|Categorical\n",
    "SalePrice|The property's sale price in dollars|Continuous"
   ]
  },
  {
   "cell_type": "markdown",
   "metadata": {},
   "source": [
    "### Create new column\n",
    "\n",
    "A new column representing the age of houses has been created based on the existing column called 'Year Built'."
   ]
  },
  {
   "cell_type": "code",
   "execution_count": 6,
   "metadata": {},
   "outputs": [],
   "source": [
    "train['Age'] = 2021 - train['YearBuilt']"
   ]
  },
  {
   "cell_type": "code",
   "execution_count": 7,
   "metadata": {},
   "outputs": [],
   "source": [
    "test['Age'] = 2021 - test['YearBuilt']"
   ]
  },
  {
   "cell_type": "markdown",
   "metadata": {},
   "source": [
    "### Drop column\n",
    "\n",
    "Column 'Year Built' will now be dropped and not considered for further analysis."
   ]
  },
  {
   "cell_type": "code",
   "execution_count": 8,
   "metadata": {},
   "outputs": [],
   "source": [
    "train = train.drop(['YearBuilt'],axis=1)"
   ]
  },
  {
   "cell_type": "code",
   "execution_count": 9,
   "metadata": {},
   "outputs": [],
   "source": [
    "test = test.drop(['YearBuilt'],axis=1)"
   ]
  },
  {
   "cell_type": "markdown",
   "metadata": {},
   "source": [
    "### Check for missing values\n",
    "\n",
    "Displayed below is the number of missing values for each variables in the dataset."
   ]
  },
  {
   "cell_type": "code",
   "execution_count": 10,
   "metadata": {},
   "outputs": [
    {
     "data": {
      "text/plain": [
       "Id                0\n",
       "HouseStyle        0\n",
       "BldgType          0\n",
       "LotFrontage     259\n",
       "LotArea           0\n",
       "Street            0\n",
       "LotShape          0\n",
       "RoofStyle         0\n",
       "Foundation        0\n",
       "CentralAir        0\n",
       "1stFlrSF          0\n",
       "BedroomAbvGr      0\n",
       "GarageType       81\n",
       "SalePrice         0\n",
       "Age               0\n",
       "dtype: int64"
      ]
     },
     "execution_count": 10,
     "metadata": {},
     "output_type": "execute_result"
    }
   ],
   "source": [
    "train.isnull().sum() "
   ]
  },
  {
   "cell_type": "code",
   "execution_count": 11,
   "metadata": {},
   "outputs": [
    {
     "data": {
      "text/plain": [
       "Id                0\n",
       "HouseStyle        0\n",
       "BldgType          0\n",
       "LotFrontage     227\n",
       "LotArea           0\n",
       "Street            0\n",
       "LotShape          0\n",
       "RoofStyle         0\n",
       "Foundation        0\n",
       "CentralAir        0\n",
       "1stFlrSF          0\n",
       "BedroomAbvGr      0\n",
       "GarageType       76\n",
       "Age               0\n",
       "dtype: int64"
      ]
     },
     "execution_count": 11,
     "metadata": {},
     "output_type": "execute_result"
    }
   ],
   "source": [
    "test.isnull().sum()"
   ]
  },
  {
   "cell_type": "markdown",
   "metadata": {},
   "source": [
    "### Dealing with missing values"
   ]
  },
  {
   "cell_type": "markdown",
   "metadata": {},
   "source": [
    "Various methods for dealing with missing values exist. In this study, missing value for categorical variable 'GarageType' will be replaced by the mode. Regarding 'LotFrontage', I used mean for imputation."
   ]
  },
  {
   "cell_type": "code",
   "execution_count": 12,
   "metadata": {},
   "outputs": [],
   "source": [
    "train['GarageType'].fillna(value=train['GarageType'].value_counts().index[0],inplace =True)"
   ]
  },
  {
   "cell_type": "code",
   "execution_count": 13,
   "metadata": {},
   "outputs": [],
   "source": [
    "train = train.fillna({'LotFrontage':train['LotFrontage'].mean()})"
   ]
  },
  {
   "cell_type": "code",
   "execution_count": 14,
   "metadata": {},
   "outputs": [],
   "source": [
    "test['GarageType'].fillna(value=test['GarageType'].value_counts().index[0],inplace =True)"
   ]
  },
  {
   "cell_type": "code",
   "execution_count": 15,
   "metadata": {},
   "outputs": [],
   "source": [
    "test = test.fillna({'LotFrontage':test['LotFrontage'].mean()})"
   ]
  },
  {
   "cell_type": "markdown",
   "metadata": {},
   "source": [
    "## EDA on Train Dataset"
   ]
  },
  {
   "cell_type": "markdown",
   "metadata": {},
   "source": [
    "### Correlation coefficient between the target 'Sale Price' and continuous features"
   ]
  },
  {
   "cell_type": "code",
   "execution_count": 16,
   "metadata": {},
   "outputs": [
    {
     "data": {
      "text/plain": [
       "SalePrice       1.000000\n",
       "1stFlrSF        0.605852\n",
       "LotFrontage     0.334901\n",
       "LotArea         0.263843\n",
       "BedroomAbvGr    0.168213\n",
       "Id             -0.021917\n",
       "Age            -0.522897\n",
       "Name: SalePrice, dtype: float64"
      ]
     },
     "execution_count": 16,
     "metadata": {},
     "output_type": "execute_result"
    }
   ],
   "source": [
    "train.corr()['SalePrice'].sort_values(ascending=False)"
   ]
  },
  {
   "cell_type": "markdown",
   "metadata": {},
   "source": [
    "Features most positively correlated with Sale Price are the first floor area (square feet) followed by linear feet of the street connected to house. Age of the house has moderate negative correlation with the Sale Price."
   ]
  },
  {
   "cell_type": "markdown",
   "metadata": {},
   "source": [
    "### Distribution of SalePrice"
   ]
  },
  {
   "cell_type": "code",
   "execution_count": 17,
   "metadata": {},
   "outputs": [
    {
     "data": {
      "image/png": "[encoded data removed]",
      "text/plain": [
       "<Figure size 360x360 with 1 Axes>"
      ]
     },
     "metadata": {
      "needs_background": "light"
     },
     "output_type": "display_data"
    }
   ],
   "source": [
    "sns.displot(data = train, x=\"SalePrice\",bins=20)\n",
    "plt.xticks(rotation=45)\n",
    "plt.show()"
   ]
  },
  {
   "cell_type": "markdown",
   "metadata": {},
   "source": [
    "The distribution is positively (right) skewed. Most of the dataset on house price exhibit positive skewness."
   ]
  },
  {
   "cell_type": "code",
   "execution_count": 18,
   "metadata": {},
   "outputs": [
    {
     "data": {
      "text/plain": [
       "count      1460.000000\n",
       "mean     180921.195890\n",
       "std       79442.502883\n",
       "min       34900.000000\n",
       "25%      129975.000000\n",
       "50%      163000.000000\n",
       "75%      214000.000000\n",
       "max      755000.000000\n",
       "Name: SalePrice, dtype: float64"
      ]
     },
     "execution_count": 18,
     "metadata": {},
     "output_type": "execute_result"
    }
   ],
   "source": [
    "train['SalePrice'].describe()"
   ]
  },
  {
   "cell_type": "markdown",
   "metadata": {},
   "source": [
    "Since median < mean, we can see that the data is right-skewed."
   ]
  },
  {
   "cell_type": "markdown",
   "metadata": {},
   "source": [
    "### Distribution of Lot Frontage, Lot Area, 1stFlrSF"
   ]
  },
  {
   "cell_type": "code",
   "execution_count": 19,
   "metadata": {},
   "outputs": [
    {
     "data": {
      "image/png": "[encoded data removed]",
      "text/plain": [
       "<Figure size 1440x216 with 3 Axes>"
      ]
     },
     "metadata": {
      "needs_background": "light"
     },
     "output_type": "display_data"
    }
   ],
   "source": [
    "fig, axes = plt.subplots(1, 3, figsize=(20, 3))\n",
    "sns.kdeplot(data=train, ax=axes[0], x='LotFrontage',shade=True)\n",
    "sns.kdeplot(data=train, ax=axes[1], x='LotArea',shade=True)\n",
    "sns.kdeplot(data=train, ax=axes[2], x='1stFlrSF',shade=True)\n",
    "plt.show()"
   ]
  },
  {
   "cell_type": "markdown",
   "metadata": {},
   "source": [
    "All three plots do not seem to be deviated very much from a bell-shaped distribution. Tails on the right of these distributions may be due to outliers in the data."
   ]
  },
  {
   "cell_type": "markdown",
   "metadata": {},
   "source": [
    "### Distribution of Building Type, Lot Shape and Garage Type"
   ]
  },
  {
   "cell_type": "code",
   "execution_count": 20,
   "metadata": {},
   "outputs": [
    {
     "data": {
      "image/png": "[encoded data removed]",
      "text/plain": [
       "<Figure size 1296x360 with 3 Axes>"
      ]
     },
     "metadata": {
      "needs_background": "light"
     },
     "output_type": "display_data"
    }
   ],
   "source": [
    "fig, axes = plt.subplots(1, 3, figsize=(18,5))\n",
    "sns.countplot(data=train, ax=axes[0], x='BldgType')\n",
    "sns.countplot(data=train, ax=axes[1], x='LotShape')\n",
    "sns.countplot(data=train, ax=axes[2], x='GarageType')\n",
    "plt.xticks(rotation=45)\n",
    "plt.show()"
   ]
  },
  {
   "cell_type": "markdown",
   "metadata": {},
   "source": [
    "### Sale Price Vs House Style"
   ]
  },
  {
   "cell_type": "code",
   "execution_count": 21,
   "metadata": {},
   "outputs": [
    {
     "data": {
      "image/png": "[encoded data removed]",
      "text/plain": [
       "<Figure size 800x300 with 1 Axes>"
      ]
     },
     "metadata": {
      "needs_background": "light"
     },
     "output_type": "display_data"
    }
   ],
   "source": [
    "plt.figure(figsize=(8,3),dpi=100)\n",
    "sns.boxplot(x=\"HouseStyle\", y=\"SalePrice\", data=train)\n",
    "plt.show()"
   ]
  },
  {
   "cell_type": "markdown",
   "metadata": {},
   "source": [
    "Median prices for two and one-half story: 2nd level finished houses (2.5 Fin) is the highest as shown by the plot and table below. There are obvious outliers in the dataset which demand separate treatment."
   ]
  },
  {
   "cell_type": "code",
   "execution_count": 22,
   "metadata": {},
   "outputs": [
    {
     "data": {
      "text/plain": [
       "HouseStyle\n",
       "2.5Fin    194000\n",
       "2Story    190000\n",
       "SLvl      164500\n",
       "1Story    154750\n",
       "SFoyer    135960\n",
       "2.5Unf    133900\n",
       "1.5Fin    132000\n",
       "1.5Unf    111250\n",
       "Name: SalePrice, dtype: int64"
      ]
     },
     "execution_count": 22,
     "metadata": {},
     "output_type": "execute_result"
    }
   ],
   "source": [
    "train.groupby('HouseStyle')[\"SalePrice\"].median().sort_values(ascending=False)"
   ]
  },
  {
   "cell_type": "markdown",
   "metadata": {},
   "source": [
    "### Sale Price Vs Roof Style"
   ]
  },
  {
   "cell_type": "code",
   "execution_count": 23,
   "metadata": {},
   "outputs": [
    {
     "data": {
      "image/png": "[encoded data removed]",
      "text/plain": [
       "<Figure size 800x300 with 1 Axes>"
      ]
     },
     "metadata": {
      "needs_background": "light"
     },
     "output_type": "display_data"
    }
   ],
   "source": [
    "# boxplot of RoofStyle Vs SalePrice\n",
    "plt.figure(figsize=(8,3),dpi=100)\n",
    "sns.boxplot(x=\"RoofStyle\", y=\"SalePrice\", data=train)\n",
    "plt.show()"
   ]
  },
  {
   "cell_type": "markdown",
   "metadata": {},
   "source": [
    "Sale Price seem to vary with roofstyle. Median prices for houses with Shed roofstyle is the highest."
   ]
  },
  {
   "cell_type": "code",
   "execution_count": 24,
   "metadata": {},
   "outputs": [
    {
     "data": {
      "text/plain": [
       "RoofStyle\n",
       "Shed       225000\n",
       "Flat       185000\n",
       "Hip        176500\n",
       "Mansard    175000\n",
       "Gable      160000\n",
       "Gambrel    139000\n",
       "Name: SalePrice, dtype: int64"
      ]
     },
     "execution_count": 24,
     "metadata": {},
     "output_type": "execute_result"
    }
   ],
   "source": [
    "train.groupby('RoofStyle')[\"SalePrice\"].median().sort_values(ascending=False)"
   ]
  },
  {
   "cell_type": "markdown",
   "metadata": {},
   "source": [
    "### Sale Price Vs Lot Frontage"
   ]
  },
  {
   "cell_type": "code",
   "execution_count": 25,
   "metadata": {},
   "outputs": [
    {
     "data": {
      "image/png": "[encoded data removed]",
      "text/plain": [
       "<Figure size 800x300 with 1 Axes>"
      ]
     },
     "metadata": {
      "needs_background": "light"
     },
     "output_type": "display_data"
    }
   ],
   "source": [
    "# Scatter plot \n",
    "plt.figure(figsize=(8,3),dpi=100)\n",
    "sns.scatterplot(x='LotFrontage',y='SalePrice',data=train,alpha=0.5)\n",
    "plt.show()"
   ]
  },
  {
   "cell_type": "markdown",
   "metadata": {},
   "source": [
    "Somewhat positive correlation is seen between Sale Price and Lot Frontage. Some outliers may also be noted from the plot."
   ]
  },
  {
   "cell_type": "code",
   "execution_count": 26,
   "metadata": {},
   "outputs": [],
   "source": [
    "# Checking if the correlation is statistically significant at 5% level of siginificance"
   ]
  },
  {
   "cell_type": "code",
   "execution_count": 27,
   "metadata": {},
   "outputs": [],
   "source": [
    "import scipy.stats"
   ]
  },
  {
   "cell_type": "code",
   "execution_count": 28,
   "metadata": {},
   "outputs": [
    {
     "data": {
      "text/plain": [
       "(0.33490085154055127, 1.3466505607154999e-39)"
      ]
     },
     "execution_count": 28,
     "metadata": {},
     "output_type": "execute_result"
    }
   ],
   "source": [
    "scipy.stats.pearsonr(train['LotFrontage'],train['SalePrice'])  # Pearson correlation coefficient and the p-value"
   ]
  },
  {
   "cell_type": "markdown",
   "metadata": {},
   "source": [
    "Since p-value is very small, we can say that the correlation is statistically significant. In other words, it is significantly different from zero."
   ]
  },
  {
   "cell_type": "markdown",
   "metadata": {},
   "source": [
    "### Sale Price Vs 1stFlrSF"
   ]
  },
  {
   "cell_type": "code",
   "execution_count": 29,
   "metadata": {},
   "outputs": [
    {
     "data": {
      "image/png": "[encoded data removed]",
      "text/plain": [
       "<Figure size 800x300 with 1 Axes>"
      ]
     },
     "metadata": {
      "needs_background": "light"
     },
     "output_type": "display_data"
    }
   ],
   "source": [
    "plt.figure(figsize=(8,3),dpi=100)\n",
    "sns.scatterplot(x='1stFlrSF',y='SalePrice',data=train,alpha=0.5)\n",
    "plt.show()"
   ]
  },
  {
   "cell_type": "markdown",
   "metadata": {},
   "source": [
    "As already noted, there is a positive correlation between first floor square feet and Sale Price."
   ]
  },
  {
   "cell_type": "markdown",
   "metadata": {},
   "source": [
    "### Sale Price Vs Age by Central Air Conditioning"
   ]
  },
  {
   "cell_type": "code",
   "execution_count": 30,
   "metadata": {},
   "outputs": [
    {
     "data": {
      "image/png": "[encoded data removed]",
      "text/plain": [
       "<Figure size 800x300 with 1 Axes>"
      ]
     },
     "metadata": {
      "needs_background": "light"
     },
     "output_type": "display_data"
    }
   ],
   "source": [
    "plt.figure(figsize=(8,3),dpi=100)\n",
    "sns.scatterplot(x='Age',y='SalePrice',data=train,alpha=0.5,hue='CentralAir')\n",
    "plt.show()"
   ]
  },
  {
   "cell_type": "markdown",
   "metadata": {},
   "source": [
    "Age of the house has negative correlation with the sale price. Most of the house with no central air system are around 50 or more years older and are priced low in general."
   ]
  },
  {
   "cell_type": "markdown",
   "metadata": {},
   "source": [
    "Now that we explored some relationships among variables, the remaining section focuses on building machine learning models."
   ]
  },
  {
   "cell_type": "code",
   "execution_count": 31,
   "metadata": {},
   "outputs": [],
   "source": [
    "total = pd.concat([train, test], axis = 0)  # Concatenate train and test dataset"
   ]
  },
  {
   "cell_type": "code",
   "execution_count": 32,
   "metadata": {},
   "outputs": [
    {
     "data": {
      "text/plain": [
       "(2919, 15)"
      ]
     },
     "execution_count": 32,
     "metadata": {},
     "output_type": "execute_result"
    }
   ],
   "source": [
    "total.shape"
   ]
  },
  {
   "cell_type": "code",
   "execution_count": 33,
   "metadata": {},
   "outputs": [
    {
     "data": {
      "text/plain": [
       "Id                 0\n",
       "HouseStyle         0\n",
       "BldgType           0\n",
       "LotFrontage        0\n",
       "LotArea            0\n",
       "Street             0\n",
       "LotShape           0\n",
       "RoofStyle          0\n",
       "Foundation         0\n",
       "CentralAir         0\n",
       "1stFlrSF           0\n",
       "BedroomAbvGr       0\n",
       "GarageType         0\n",
       "SalePrice       1459\n",
       "Age                0\n",
       "dtype: int64"
      ]
     },
     "execution_count": 33,
     "metadata": {},
     "output_type": "execute_result"
    }
   ],
   "source": [
    "total.isnull().sum()  # SalePrice for test dataset are all missing after concatenation. These will be dropped."
   ]
  },
  {
   "cell_type": "markdown",
   "metadata": {},
   "source": [
    "### Coding categorical features"
   ]
  },
  {
   "cell_type": "code",
   "execution_count": 34,
   "metadata": {},
   "outputs": [
    {
     "name": "stdout",
     "output_type": "stream",
     "text": [
      "<class 'pandas.core.frame.DataFrame'>\n",
      "Int64Index: 2919 entries, 0 to 1458\n",
      "Data columns (total 15 columns):\n",
      " #   Column        Non-Null Count  Dtype  \n",
      "---  ------        --------------  -----  \n",
      " 0   Id            2919 non-null   int64  \n",
      " 1   HouseStyle    2919 non-null   object \n",
      " 2   BldgType      2919 non-null   object \n",
      " 3   LotFrontage   2919 non-null   float64\n",
      " 4   LotArea       2919 non-null   int64  \n",
      " 5   Street        2919 non-null   object \n",
      " 6   LotShape      2919 non-null   object \n",
      " 7   RoofStyle     2919 non-null   object \n",
      " 8   Foundation    2919 non-null   object \n",
      " 9   CentralAir    2919 non-null   object \n",
      " 10  1stFlrSF      2919 non-null   int64  \n",
      " 11  BedroomAbvGr  2919 non-null   int64  \n",
      " 12  GarageType    2919 non-null   object \n",
      " 13  SalePrice     1460 non-null   float64\n",
      " 14  Age           2919 non-null   int64  \n",
      "dtypes: float64(2), int64(5), object(8)\n",
      "memory usage: 364.9+ KB\n"
     ]
    }
   ],
   "source": [
    "total.info()"
   ]
  },
  {
   "cell_type": "markdown",
   "metadata": {},
   "source": [
    "Columns of 'object' data type will be extracted to get dummy variables for modeling purposes."
   ]
  },
  {
   "cell_type": "code",
   "execution_count": 35,
   "metadata": {},
   "outputs": [],
   "source": [
    "obj_df = total.select_dtypes(include=['object']).copy()\n",
    "cat_cols = obj_df.columns"
   ]
  },
  {
   "cell_type": "code",
   "execution_count": 36,
   "metadata": {},
   "outputs": [
    {
     "data": {
      "text/html": [
       "<div>\n",
       "<style scoped>\n",
       "    .dataframe tbody tr th:only-of-type {\n",
       "        vertical-align: middle;\n",
       "    }\n",
       "\n",
       "    .dataframe tbody tr th {\n",
       "        vertical-align: top;\n",
       "    }\n",
       "\n",
       "    .dataframe thead th {\n",
       "        text-align: right;\n",
       "    }\n",
       "</style>\n",
       "<table border=\"1\" class=\"dataframe\">\n",
       "  <thead>\n",
       "    <tr style=\"text-align: right;\">\n",
       "      <th></th>\n",
       "      <th>Id</th>\n",
       "      <th>LotFrontage</th>\n",
       "      <th>LotArea</th>\n",
       "      <th>1stFlrSF</th>\n",
       "      <th>BedroomAbvGr</th>\n",
       "      <th>SalePrice</th>\n",
       "      <th>Age</th>\n",
       "      <th>HouseStyle_1.5Unf</th>\n",
       "      <th>HouseStyle_1Story</th>\n",
       "      <th>HouseStyle_2.5Fin</th>\n",
       "      <th>...</th>\n",
       "      <th>Foundation_PConc</th>\n",
       "      <th>Foundation_Slab</th>\n",
       "      <th>Foundation_Stone</th>\n",
       "      <th>Foundation_Wood</th>\n",
       "      <th>CentralAir_Y</th>\n",
       "      <th>GarageType_Attchd</th>\n",
       "      <th>GarageType_Basment</th>\n",
       "      <th>GarageType_BuiltIn</th>\n",
       "      <th>GarageType_CarPort</th>\n",
       "      <th>GarageType_Detchd</th>\n",
       "    </tr>\n",
       "  </thead>\n",
       "  <tbody>\n",
       "    <tr>\n",
       "      <th>0</th>\n",
       "      <td>1</td>\n",
       "      <td>65.0</td>\n",
       "      <td>8450</td>\n",
       "      <td>856</td>\n",
       "      <td>3</td>\n",
       "      <td>208500.0</td>\n",
       "      <td>18</td>\n",
       "      <td>0</td>\n",
       "      <td>0</td>\n",
       "      <td>0</td>\n",
       "      <td>...</td>\n",
       "      <td>1</td>\n",
       "      <td>0</td>\n",
       "      <td>0</td>\n",
       "      <td>0</td>\n",
       "      <td>1</td>\n",
       "      <td>1</td>\n",
       "      <td>0</td>\n",
       "      <td>0</td>\n",
       "      <td>0</td>\n",
       "      <td>0</td>\n",
       "    </tr>\n",
       "    <tr>\n",
       "      <th>1</th>\n",
       "      <td>2</td>\n",
       "      <td>80.0</td>\n",
       "      <td>9600</td>\n",
       "      <td>1262</td>\n",
       "      <td>3</td>\n",
       "      <td>181500.0</td>\n",
       "      <td>45</td>\n",
       "      <td>0</td>\n",
       "      <td>1</td>\n",
       "      <td>0</td>\n",
       "      <td>...</td>\n",
       "      <td>0</td>\n",
       "      <td>0</td>\n",
       "      <td>0</td>\n",
       "      <td>0</td>\n",
       "      <td>1</td>\n",
       "      <td>1</td>\n",
       "      <td>0</td>\n",
       "      <td>0</td>\n",
       "      <td>0</td>\n",
       "      <td>0</td>\n",
       "    </tr>\n",
       "    <tr>\n",
       "      <th>2</th>\n",
       "      <td>3</td>\n",
       "      <td>68.0</td>\n",
       "      <td>11250</td>\n",
       "      <td>920</td>\n",
       "      <td>3</td>\n",
       "      <td>223500.0</td>\n",
       "      <td>20</td>\n",
       "      <td>0</td>\n",
       "      <td>0</td>\n",
       "      <td>0</td>\n",
       "      <td>...</td>\n",
       "      <td>1</td>\n",
       "      <td>0</td>\n",
       "      <td>0</td>\n",
       "      <td>0</td>\n",
       "      <td>1</td>\n",
       "      <td>1</td>\n",
       "      <td>0</td>\n",
       "      <td>0</td>\n",
       "      <td>0</td>\n",
       "      <td>0</td>\n",
       "    </tr>\n",
       "    <tr>\n",
       "      <th>3</th>\n",
       "      <td>4</td>\n",
       "      <td>60.0</td>\n",
       "      <td>9550</td>\n",
       "      <td>961</td>\n",
       "      <td>3</td>\n",
       "      <td>140000.0</td>\n",
       "      <td>106</td>\n",
       "      <td>0</td>\n",
       "      <td>0</td>\n",
       "      <td>0</td>\n",
       "      <td>...</td>\n",
       "      <td>0</td>\n",
       "      <td>0</td>\n",
       "      <td>0</td>\n",
       "      <td>0</td>\n",
       "      <td>1</td>\n",
       "      <td>0</td>\n",
       "      <td>0</td>\n",
       "      <td>0</td>\n",
       "      <td>0</td>\n",
       "      <td>1</td>\n",
       "    </tr>\n",
       "    <tr>\n",
       "      <th>4</th>\n",
       "      <td>5</td>\n",
       "      <td>84.0</td>\n",
       "      <td>14260</td>\n",
       "      <td>1145</td>\n",
       "      <td>4</td>\n",
       "      <td>250000.0</td>\n",
       "      <td>21</td>\n",
       "      <td>0</td>\n",
       "      <td>0</td>\n",
       "      <td>0</td>\n",
       "      <td>...</td>\n",
       "      <td>1</td>\n",
       "      <td>0</td>\n",
       "      <td>0</td>\n",
       "      <td>0</td>\n",
       "      <td>1</td>\n",
       "      <td>1</td>\n",
       "      <td>0</td>\n",
       "      <td>0</td>\n",
       "      <td>0</td>\n",
       "      <td>0</td>\n",
       "    </tr>\n",
       "    <tr>\n",
       "      <th>...</th>\n",
       "      <td>...</td>\n",
       "      <td>...</td>\n",
       "      <td>...</td>\n",
       "      <td>...</td>\n",
       "      <td>...</td>\n",
       "      <td>...</td>\n",
       "      <td>...</td>\n",
       "      <td>...</td>\n",
       "      <td>...</td>\n",
       "      <td>...</td>\n",
       "      <td>...</td>\n",
       "      <td>...</td>\n",
       "      <td>...</td>\n",
       "      <td>...</td>\n",
       "      <td>...</td>\n",
       "      <td>...</td>\n",
       "      <td>...</td>\n",
       "      <td>...</td>\n",
       "      <td>...</td>\n",
       "      <td>...</td>\n",
       "      <td>...</td>\n",
       "    </tr>\n",
       "    <tr>\n",
       "      <th>1454</th>\n",
       "      <td>2915</td>\n",
       "      <td>21.0</td>\n",
       "      <td>1936</td>\n",
       "      <td>546</td>\n",
       "      <td>3</td>\n",
       "      <td>NaN</td>\n",
       "      <td>51</td>\n",
       "      <td>0</td>\n",
       "      <td>0</td>\n",
       "      <td>0</td>\n",
       "      <td>...</td>\n",
       "      <td>0</td>\n",
       "      <td>0</td>\n",
       "      <td>0</td>\n",
       "      <td>0</td>\n",
       "      <td>1</td>\n",
       "      <td>1</td>\n",
       "      <td>0</td>\n",
       "      <td>0</td>\n",
       "      <td>0</td>\n",
       "      <td>0</td>\n",
       "    </tr>\n",
       "    <tr>\n",
       "      <th>1455</th>\n",
       "      <td>2916</td>\n",
       "      <td>21.0</td>\n",
       "      <td>1894</td>\n",
       "      <td>546</td>\n",
       "      <td>3</td>\n",
       "      <td>NaN</td>\n",
       "      <td>51</td>\n",
       "      <td>0</td>\n",
       "      <td>0</td>\n",
       "      <td>0</td>\n",
       "      <td>...</td>\n",
       "      <td>0</td>\n",
       "      <td>0</td>\n",
       "      <td>0</td>\n",
       "      <td>0</td>\n",
       "      <td>1</td>\n",
       "      <td>0</td>\n",
       "      <td>0</td>\n",
       "      <td>0</td>\n",
       "      <td>1</td>\n",
       "      <td>0</td>\n",
       "    </tr>\n",
       "    <tr>\n",
       "      <th>1456</th>\n",
       "      <td>2917</td>\n",
       "      <td>160.0</td>\n",
       "      <td>20000</td>\n",
       "      <td>1224</td>\n",
       "      <td>4</td>\n",
       "      <td>NaN</td>\n",
       "      <td>61</td>\n",
       "      <td>0</td>\n",
       "      <td>1</td>\n",
       "      <td>0</td>\n",
       "      <td>...</td>\n",
       "      <td>0</td>\n",
       "      <td>0</td>\n",
       "      <td>0</td>\n",
       "      <td>0</td>\n",
       "      <td>1</td>\n",
       "      <td>0</td>\n",
       "      <td>0</td>\n",
       "      <td>0</td>\n",
       "      <td>0</td>\n",
       "      <td>1</td>\n",
       "    </tr>\n",
       "    <tr>\n",
       "      <th>1457</th>\n",
       "      <td>2918</td>\n",
       "      <td>62.0</td>\n",
       "      <td>10441</td>\n",
       "      <td>970</td>\n",
       "      <td>3</td>\n",
       "      <td>NaN</td>\n",
       "      <td>29</td>\n",
       "      <td>0</td>\n",
       "      <td>0</td>\n",
       "      <td>0</td>\n",
       "      <td>...</td>\n",
       "      <td>1</td>\n",
       "      <td>0</td>\n",
       "      <td>0</td>\n",
       "      <td>0</td>\n",
       "      <td>1</td>\n",
       "      <td>1</td>\n",
       "      <td>0</td>\n",
       "      <td>0</td>\n",
       "      <td>0</td>\n",
       "      <td>0</td>\n",
       "    </tr>\n",
       "    <tr>\n",
       "      <th>1458</th>\n",
       "      <td>2919</td>\n",
       "      <td>74.0</td>\n",
       "      <td>9627</td>\n",
       "      <td>996</td>\n",
       "      <td>3</td>\n",
       "      <td>NaN</td>\n",
       "      <td>28</td>\n",
       "      <td>0</td>\n",
       "      <td>0</td>\n",
       "      <td>0</td>\n",
       "      <td>...</td>\n",
       "      <td>1</td>\n",
       "      <td>0</td>\n",
       "      <td>0</td>\n",
       "      <td>0</td>\n",
       "      <td>1</td>\n",
       "      <td>1</td>\n",
       "      <td>0</td>\n",
       "      <td>0</td>\n",
       "      <td>0</td>\n",
       "      <td>0</td>\n",
       "    </tr>\n",
       "  </tbody>\n",
       "</table>\n",
       "<p>2919 rows × 38 columns</p>\n",
       "</div>"
      ],
      "text/plain": [
       "        Id  LotFrontage  LotArea  1stFlrSF  BedroomAbvGr  SalePrice  Age  \\\n",
       "0        1         65.0     8450       856             3   208500.0   18   \n",
       "1        2         80.0     9600      1262             3   181500.0   45   \n",
       "2        3         68.0    11250       920             3   223500.0   20   \n",
       "3        4         60.0     9550       961             3   140000.0  106   \n",
       "4        5         84.0    14260      1145             4   250000.0   21   \n",
       "...    ...          ...      ...       ...           ...        ...  ...   \n",
       "1454  2915         21.0     1936       546             3        NaN   51   \n",
       "1455  2916         21.0     1894       546             3        NaN   51   \n",
       "1456  2917        160.0    20000      1224             4        NaN   61   \n",
       "1457  2918         62.0    10441       970             3        NaN   29   \n",
       "1458  2919         74.0     9627       996             3        NaN   28   \n",
       "\n",
       "      HouseStyle_1.5Unf  HouseStyle_1Story  HouseStyle_2.5Fin  ...  \\\n",
       "0                     0                  0                  0  ...   \n",
       "1                     0                  1                  0  ...   \n",
       "2                     0                  0                  0  ...   \n",
       "3                     0                  0                  0  ...   \n",
       "4                     0                  0                  0  ...   \n",
       "...                 ...                ...                ...  ...   \n",
       "1454                  0                  0                  0  ...   \n",
       "1455                  0                  0                  0  ...   \n",
       "1456                  0                  1                  0  ...   \n",
       "1457                  0                  0                  0  ...   \n",
       "1458                  0                  0                  0  ...   \n",
       "\n",
       "      Foundation_PConc  Foundation_Slab  Foundation_Stone  Foundation_Wood  \\\n",
       "0                    1                0                 0                0   \n",
       "1                    0                0                 0                0   \n",
       "2                    1                0                 0                0   \n",
       "3                    0                0                 0                0   \n",
       "4                    1                0                 0                0   \n",
       "...                ...              ...               ...              ...   \n",
       "1454                 0                0                 0                0   \n",
       "1455                 0                0                 0                0   \n",
       "1456                 0                0                 0                0   \n",
       "1457                 1                0                 0                0   \n",
       "1458                 1                0                 0                0   \n",
       "\n",
       "      CentralAir_Y  GarageType_Attchd  GarageType_Basment  GarageType_BuiltIn  \\\n",
       "0                1                  1                   0                   0   \n",
       "1                1                  1                   0                   0   \n",
       "2                1                  1                   0                   0   \n",
       "3                1                  0                   0                   0   \n",
       "4                1                  1                   0                   0   \n",
       "...            ...                ...                 ...                 ...   \n",
       "1454             1                  1                   0                   0   \n",
       "1455             1                  0                   0                   0   \n",
       "1456             1                  0                   0                   0   \n",
       "1457             1                  1                   0                   0   \n",
       "1458             1                  1                   0                   0   \n",
       "\n",
       "      GarageType_CarPort  GarageType_Detchd  \n",
       "0                      0                  0  \n",
       "1                      0                  0  \n",
       "2                      0                  0  \n",
       "3                      0                  1  \n",
       "4                      0                  0  \n",
       "...                  ...                ...  \n",
       "1454                   0                  0  \n",
       "1455                   1                  0  \n",
       "1456                   0                  1  \n",
       "1457                   0                  0  \n",
       "1458                   0                  0  \n",
       "\n",
       "[2919 rows x 38 columns]"
      ]
     },
     "execution_count": 36,
     "metadata": {},
     "output_type": "execute_result"
    }
   ],
   "source": [
    "total_dummies = pd.get_dummies(data = total, columns = cat_cols, drop_first =True)\n",
    "total_dummies"
   ]
  },
  {
   "cell_type": "code",
   "execution_count": 37,
   "metadata": {},
   "outputs": [
    {
     "data": {
      "text/html": [
       "<div>\n",
       "<style scoped>\n",
       "    .dataframe tbody tr th:only-of-type {\n",
       "        vertical-align: middle;\n",
       "    }\n",
       "\n",
       "    .dataframe tbody tr th {\n",
       "        vertical-align: top;\n",
       "    }\n",
       "\n",
       "    .dataframe thead th {\n",
       "        text-align: right;\n",
       "    }\n",
       "</style>\n",
       "<table border=\"1\" class=\"dataframe\">\n",
       "  <thead>\n",
       "    <tr style=\"text-align: right;\">\n",
       "      <th></th>\n",
       "      <th>LotFrontage</th>\n",
       "      <th>LotArea</th>\n",
       "      <th>1stFlrSF</th>\n",
       "      <th>BedroomAbvGr</th>\n",
       "      <th>SalePrice</th>\n",
       "      <th>Age</th>\n",
       "      <th>HouseStyle_1.5Unf</th>\n",
       "      <th>HouseStyle_1Story</th>\n",
       "      <th>HouseStyle_2.5Fin</th>\n",
       "      <th>HouseStyle_2.5Unf</th>\n",
       "      <th>...</th>\n",
       "      <th>Foundation_PConc</th>\n",
       "      <th>Foundation_Slab</th>\n",
       "      <th>Foundation_Stone</th>\n",
       "      <th>Foundation_Wood</th>\n",
       "      <th>CentralAir_Y</th>\n",
       "      <th>GarageType_Attchd</th>\n",
       "      <th>GarageType_Basment</th>\n",
       "      <th>GarageType_BuiltIn</th>\n",
       "      <th>GarageType_CarPort</th>\n",
       "      <th>GarageType_Detchd</th>\n",
       "    </tr>\n",
       "  </thead>\n",
       "  <tbody>\n",
       "    <tr>\n",
       "      <th>0</th>\n",
       "      <td>65.0</td>\n",
       "      <td>8450</td>\n",
       "      <td>856</td>\n",
       "      <td>3</td>\n",
       "      <td>208500.0</td>\n",
       "      <td>18</td>\n",
       "      <td>0</td>\n",
       "      <td>0</td>\n",
       "      <td>0</td>\n",
       "      <td>0</td>\n",
       "      <td>...</td>\n",
       "      <td>1</td>\n",
       "      <td>0</td>\n",
       "      <td>0</td>\n",
       "      <td>0</td>\n",
       "      <td>1</td>\n",
       "      <td>1</td>\n",
       "      <td>0</td>\n",
       "      <td>0</td>\n",
       "      <td>0</td>\n",
       "      <td>0</td>\n",
       "    </tr>\n",
       "    <tr>\n",
       "      <th>1</th>\n",
       "      <td>80.0</td>\n",
       "      <td>9600</td>\n",
       "      <td>1262</td>\n",
       "      <td>3</td>\n",
       "      <td>181500.0</td>\n",
       "      <td>45</td>\n",
       "      <td>0</td>\n",
       "      <td>1</td>\n",
       "      <td>0</td>\n",
       "      <td>0</td>\n",
       "      <td>...</td>\n",
       "      <td>0</td>\n",
       "      <td>0</td>\n",
       "      <td>0</td>\n",
       "      <td>0</td>\n",
       "      <td>1</td>\n",
       "      <td>1</td>\n",
       "      <td>0</td>\n",
       "      <td>0</td>\n",
       "      <td>0</td>\n",
       "      <td>0</td>\n",
       "    </tr>\n",
       "    <tr>\n",
       "      <th>2</th>\n",
       "      <td>68.0</td>\n",
       "      <td>11250</td>\n",
       "      <td>920</td>\n",
       "      <td>3</td>\n",
       "      <td>223500.0</td>\n",
       "      <td>20</td>\n",
       "      <td>0</td>\n",
       "      <td>0</td>\n",
       "      <td>0</td>\n",
       "      <td>0</td>\n",
       "      <td>...</td>\n",
       "      <td>1</td>\n",
       "      <td>0</td>\n",
       "      <td>0</td>\n",
       "      <td>0</td>\n",
       "      <td>1</td>\n",
       "      <td>1</td>\n",
       "      <td>0</td>\n",
       "      <td>0</td>\n",
       "      <td>0</td>\n",
       "      <td>0</td>\n",
       "    </tr>\n",
       "    <tr>\n",
       "      <th>3</th>\n",
       "      <td>60.0</td>\n",
       "      <td>9550</td>\n",
       "      <td>961</td>\n",
       "      <td>3</td>\n",
       "      <td>140000.0</td>\n",
       "      <td>106</td>\n",
       "      <td>0</td>\n",
       "      <td>0</td>\n",
       "      <td>0</td>\n",
       "      <td>0</td>\n",
       "      <td>...</td>\n",
       "      <td>0</td>\n",
       "      <td>0</td>\n",
       "      <td>0</td>\n",
       "      <td>0</td>\n",
       "      <td>1</td>\n",
       "      <td>0</td>\n",
       "      <td>0</td>\n",
       "      <td>0</td>\n",
       "      <td>0</td>\n",
       "      <td>1</td>\n",
       "    </tr>\n",
       "    <tr>\n",
       "      <th>4</th>\n",
       "      <td>84.0</td>\n",
       "      <td>14260</td>\n",
       "      <td>1145</td>\n",
       "      <td>4</td>\n",
       "      <td>250000.0</td>\n",
       "      <td>21</td>\n",
       "      <td>0</td>\n",
       "      <td>0</td>\n",
       "      <td>0</td>\n",
       "      <td>0</td>\n",
       "      <td>...</td>\n",
       "      <td>1</td>\n",
       "      <td>0</td>\n",
       "      <td>0</td>\n",
       "      <td>0</td>\n",
       "      <td>1</td>\n",
       "      <td>1</td>\n",
       "      <td>0</td>\n",
       "      <td>0</td>\n",
       "      <td>0</td>\n",
       "      <td>0</td>\n",
       "    </tr>\n",
       "    <tr>\n",
       "      <th>...</th>\n",
       "      <td>...</td>\n",
       "      <td>...</td>\n",
       "      <td>...</td>\n",
       "      <td>...</td>\n",
       "      <td>...</td>\n",
       "      <td>...</td>\n",
       "      <td>...</td>\n",
       "      <td>...</td>\n",
       "      <td>...</td>\n",
       "      <td>...</td>\n",
       "      <td>...</td>\n",
       "      <td>...</td>\n",
       "      <td>...</td>\n",
       "      <td>...</td>\n",
       "      <td>...</td>\n",
       "      <td>...</td>\n",
       "      <td>...</td>\n",
       "      <td>...</td>\n",
       "      <td>...</td>\n",
       "      <td>...</td>\n",
       "      <td>...</td>\n",
       "    </tr>\n",
       "    <tr>\n",
       "      <th>1455</th>\n",
       "      <td>62.0</td>\n",
       "      <td>7917</td>\n",
       "      <td>953</td>\n",
       "      <td>3</td>\n",
       "      <td>175000.0</td>\n",
       "      <td>22</td>\n",
       "      <td>0</td>\n",
       "      <td>0</td>\n",
       "      <td>0</td>\n",
       "      <td>0</td>\n",
       "      <td>...</td>\n",
       "      <td>1</td>\n",
       "      <td>0</td>\n",
       "      <td>0</td>\n",
       "      <td>0</td>\n",
       "      <td>1</td>\n",
       "      <td>1</td>\n",
       "      <td>0</td>\n",
       "      <td>0</td>\n",
       "      <td>0</td>\n",
       "      <td>0</td>\n",
       "    </tr>\n",
       "    <tr>\n",
       "      <th>1456</th>\n",
       "      <td>85.0</td>\n",
       "      <td>13175</td>\n",
       "      <td>2073</td>\n",
       "      <td>3</td>\n",
       "      <td>210000.0</td>\n",
       "      <td>43</td>\n",
       "      <td>0</td>\n",
       "      <td>1</td>\n",
       "      <td>0</td>\n",
       "      <td>0</td>\n",
       "      <td>...</td>\n",
       "      <td>0</td>\n",
       "      <td>0</td>\n",
       "      <td>0</td>\n",
       "      <td>0</td>\n",
       "      <td>1</td>\n",
       "      <td>1</td>\n",
       "      <td>0</td>\n",
       "      <td>0</td>\n",
       "      <td>0</td>\n",
       "      <td>0</td>\n",
       "    </tr>\n",
       "    <tr>\n",
       "      <th>1457</th>\n",
       "      <td>66.0</td>\n",
       "      <td>9042</td>\n",
       "      <td>1188</td>\n",
       "      <td>4</td>\n",
       "      <td>266500.0</td>\n",
       "      <td>80</td>\n",
       "      <td>0</td>\n",
       "      <td>0</td>\n",
       "      <td>0</td>\n",
       "      <td>0</td>\n",
       "      <td>...</td>\n",
       "      <td>0</td>\n",
       "      <td>0</td>\n",
       "      <td>1</td>\n",
       "      <td>0</td>\n",
       "      <td>1</td>\n",
       "      <td>1</td>\n",
       "      <td>0</td>\n",
       "      <td>0</td>\n",
       "      <td>0</td>\n",
       "      <td>0</td>\n",
       "    </tr>\n",
       "    <tr>\n",
       "      <th>1458</th>\n",
       "      <td>68.0</td>\n",
       "      <td>9717</td>\n",
       "      <td>1078</td>\n",
       "      <td>2</td>\n",
       "      <td>142125.0</td>\n",
       "      <td>71</td>\n",
       "      <td>0</td>\n",
       "      <td>1</td>\n",
       "      <td>0</td>\n",
       "      <td>0</td>\n",
       "      <td>...</td>\n",
       "      <td>0</td>\n",
       "      <td>0</td>\n",
       "      <td>0</td>\n",
       "      <td>0</td>\n",
       "      <td>1</td>\n",
       "      <td>1</td>\n",
       "      <td>0</td>\n",
       "      <td>0</td>\n",
       "      <td>0</td>\n",
       "      <td>0</td>\n",
       "    </tr>\n",
       "    <tr>\n",
       "      <th>1459</th>\n",
       "      <td>75.0</td>\n",
       "      <td>9937</td>\n",
       "      <td>1256</td>\n",
       "      <td>3</td>\n",
       "      <td>147500.0</td>\n",
       "      <td>56</td>\n",
       "      <td>0</td>\n",
       "      <td>1</td>\n",
       "      <td>0</td>\n",
       "      <td>0</td>\n",
       "      <td>...</td>\n",
       "      <td>0</td>\n",
       "      <td>0</td>\n",
       "      <td>0</td>\n",
       "      <td>0</td>\n",
       "      <td>1</td>\n",
       "      <td>1</td>\n",
       "      <td>0</td>\n",
       "      <td>0</td>\n",
       "      <td>0</td>\n",
       "      <td>0</td>\n",
       "    </tr>\n",
       "  </tbody>\n",
       "</table>\n",
       "<p>1460 rows × 37 columns</p>\n",
       "</div>"
      ],
      "text/plain": [
       "      LotFrontage  LotArea  1stFlrSF  BedroomAbvGr  SalePrice  Age  \\\n",
       "0            65.0     8450       856             3   208500.0   18   \n",
       "1            80.0     9600      1262             3   181500.0   45   \n",
       "2            68.0    11250       920             3   223500.0   20   \n",
       "3            60.0     9550       961             3   140000.0  106   \n",
       "4            84.0    14260      1145             4   250000.0   21   \n",
       "...           ...      ...       ...           ...        ...  ...   \n",
       "1455         62.0     7917       953             3   175000.0   22   \n",
       "1456         85.0    13175      2073             3   210000.0   43   \n",
       "1457         66.0     9042      1188             4   266500.0   80   \n",
       "1458         68.0     9717      1078             2   142125.0   71   \n",
       "1459         75.0     9937      1256             3   147500.0   56   \n",
       "\n",
       "      HouseStyle_1.5Unf  HouseStyle_1Story  HouseStyle_2.5Fin  \\\n",
       "0                     0                  0                  0   \n",
       "1                     0                  1                  0   \n",
       "2                     0                  0                  0   \n",
       "3                     0                  0                  0   \n",
       "4                     0                  0                  0   \n",
       "...                 ...                ...                ...   \n",
       "1455                  0                  0                  0   \n",
       "1456                  0                  1                  0   \n",
       "1457                  0                  0                  0   \n",
       "1458                  0                  1                  0   \n",
       "1459                  0                  1                  0   \n",
       "\n",
       "      HouseStyle_2.5Unf  ...  Foundation_PConc  Foundation_Slab  \\\n",
       "0                     0  ...                 1                0   \n",
       "1                     0  ...                 0                0   \n",
       "2                     0  ...                 1                0   \n",
       "3                     0  ...                 0                0   \n",
       "4                     0  ...                 1                0   \n",
       "...                 ...  ...               ...              ...   \n",
       "1455                  0  ...                 1                0   \n",
       "1456                  0  ...                 0                0   \n",
       "1457                  0  ...                 0                0   \n",
       "1458                  0  ...                 0                0   \n",
       "1459                  0  ...                 0                0   \n",
       "\n",
       "      Foundation_Stone  Foundation_Wood  CentralAir_Y  GarageType_Attchd  \\\n",
       "0                    0                0             1                  1   \n",
       "1                    0                0             1                  1   \n",
       "2                    0                0             1                  1   \n",
       "3                    0                0             1                  0   \n",
       "4                    0                0             1                  1   \n",
       "...                ...              ...           ...                ...   \n",
       "1455                 0                0             1                  1   \n",
       "1456                 0                0             1                  1   \n",
       "1457                 1                0             1                  1   \n",
       "1458                 0                0             1                  1   \n",
       "1459                 0                0             1                  1   \n",
       "\n",
       "      GarageType_Basment  GarageType_BuiltIn  GarageType_CarPort  \\\n",
       "0                      0                   0                   0   \n",
       "1                      0                   0                   0   \n",
       "2                      0                   0                   0   \n",
       "3                      0                   0                   0   \n",
       "4                      0                   0                   0   \n",
       "...                  ...                 ...                 ...   \n",
       "1455                   0                   0                   0   \n",
       "1456                   0                   0                   0   \n",
       "1457                   0                   0                   0   \n",
       "1458                   0                   0                   0   \n",
       "1459                   0                   0                   0   \n",
       "\n",
       "      GarageType_Detchd  \n",
       "0                     0  \n",
       "1                     0  \n",
       "2                     0  \n",
       "3                     1  \n",
       "4                     0  \n",
       "...                 ...  \n",
       "1455                  0  \n",
       "1456                  0  \n",
       "1457                  0  \n",
       "1458                  0  \n",
       "1459                  0  \n",
       "\n",
       "[1460 rows x 37 columns]"
      ]
     },
     "execution_count": 37,
     "metadata": {},
     "output_type": "execute_result"
    }
   ],
   "source": [
    "df_train=total_dummies.iloc[:1460,1:]  #excludes Id column which is not required for prediction\n",
    "df_train"
   ]
  },
  {
   "cell_type": "code",
   "execution_count": 38,
   "metadata": {},
   "outputs": [
    {
     "data": {
      "text/html": [
       "<div>\n",
       "<style scoped>\n",
       "    .dataframe tbody tr th:only-of-type {\n",
       "        vertical-align: middle;\n",
       "    }\n",
       "\n",
       "    .dataframe tbody tr th {\n",
       "        vertical-align: top;\n",
       "    }\n",
       "\n",
       "    .dataframe thead th {\n",
       "        text-align: right;\n",
       "    }\n",
       "</style>\n",
       "<table border=\"1\" class=\"dataframe\">\n",
       "  <thead>\n",
       "    <tr style=\"text-align: right;\">\n",
       "      <th></th>\n",
       "      <th>Id</th>\n",
       "      <th>LotFrontage</th>\n",
       "      <th>LotArea</th>\n",
       "      <th>1stFlrSF</th>\n",
       "      <th>BedroomAbvGr</th>\n",
       "      <th>Age</th>\n",
       "      <th>HouseStyle_1.5Unf</th>\n",
       "      <th>HouseStyle_1Story</th>\n",
       "      <th>HouseStyle_2.5Fin</th>\n",
       "      <th>HouseStyle_2.5Unf</th>\n",
       "      <th>...</th>\n",
       "      <th>Foundation_PConc</th>\n",
       "      <th>Foundation_Slab</th>\n",
       "      <th>Foundation_Stone</th>\n",
       "      <th>Foundation_Wood</th>\n",
       "      <th>CentralAir_Y</th>\n",
       "      <th>GarageType_Attchd</th>\n",
       "      <th>GarageType_Basment</th>\n",
       "      <th>GarageType_BuiltIn</th>\n",
       "      <th>GarageType_CarPort</th>\n",
       "      <th>GarageType_Detchd</th>\n",
       "    </tr>\n",
       "  </thead>\n",
       "  <tbody>\n",
       "    <tr>\n",
       "      <th>0</th>\n",
       "      <td>1461</td>\n",
       "      <td>80.0</td>\n",
       "      <td>11622</td>\n",
       "      <td>896</td>\n",
       "      <td>2</td>\n",
       "      <td>60</td>\n",
       "      <td>0</td>\n",
       "      <td>1</td>\n",
       "      <td>0</td>\n",
       "      <td>0</td>\n",
       "      <td>...</td>\n",
       "      <td>0</td>\n",
       "      <td>0</td>\n",
       "      <td>0</td>\n",
       "      <td>0</td>\n",
       "      <td>1</td>\n",
       "      <td>1</td>\n",
       "      <td>0</td>\n",
       "      <td>0</td>\n",
       "      <td>0</td>\n",
       "      <td>0</td>\n",
       "    </tr>\n",
       "    <tr>\n",
       "      <th>1</th>\n",
       "      <td>1462</td>\n",
       "      <td>81.0</td>\n",
       "      <td>14267</td>\n",
       "      <td>1329</td>\n",
       "      <td>3</td>\n",
       "      <td>63</td>\n",
       "      <td>0</td>\n",
       "      <td>1</td>\n",
       "      <td>0</td>\n",
       "      <td>0</td>\n",
       "      <td>...</td>\n",
       "      <td>0</td>\n",
       "      <td>0</td>\n",
       "      <td>0</td>\n",
       "      <td>0</td>\n",
       "      <td>1</td>\n",
       "      <td>1</td>\n",
       "      <td>0</td>\n",
       "      <td>0</td>\n",
       "      <td>0</td>\n",
       "      <td>0</td>\n",
       "    </tr>\n",
       "    <tr>\n",
       "      <th>2</th>\n",
       "      <td>1463</td>\n",
       "      <td>74.0</td>\n",
       "      <td>13830</td>\n",
       "      <td>928</td>\n",
       "      <td>3</td>\n",
       "      <td>24</td>\n",
       "      <td>0</td>\n",
       "      <td>0</td>\n",
       "      <td>0</td>\n",
       "      <td>0</td>\n",
       "      <td>...</td>\n",
       "      <td>1</td>\n",
       "      <td>0</td>\n",
       "      <td>0</td>\n",
       "      <td>0</td>\n",
       "      <td>1</td>\n",
       "      <td>1</td>\n",
       "      <td>0</td>\n",
       "      <td>0</td>\n",
       "      <td>0</td>\n",
       "      <td>0</td>\n",
       "    </tr>\n",
       "    <tr>\n",
       "      <th>3</th>\n",
       "      <td>1464</td>\n",
       "      <td>78.0</td>\n",
       "      <td>9978</td>\n",
       "      <td>926</td>\n",
       "      <td>3</td>\n",
       "      <td>23</td>\n",
       "      <td>0</td>\n",
       "      <td>0</td>\n",
       "      <td>0</td>\n",
       "      <td>0</td>\n",
       "      <td>...</td>\n",
       "      <td>1</td>\n",
       "      <td>0</td>\n",
       "      <td>0</td>\n",
       "      <td>0</td>\n",
       "      <td>1</td>\n",
       "      <td>1</td>\n",
       "      <td>0</td>\n",
       "      <td>0</td>\n",
       "      <td>0</td>\n",
       "      <td>0</td>\n",
       "    </tr>\n",
       "    <tr>\n",
       "      <th>4</th>\n",
       "      <td>1465</td>\n",
       "      <td>43.0</td>\n",
       "      <td>5005</td>\n",
       "      <td>1280</td>\n",
       "      <td>2</td>\n",
       "      <td>29</td>\n",
       "      <td>0</td>\n",
       "      <td>1</td>\n",
       "      <td>0</td>\n",
       "      <td>0</td>\n",
       "      <td>...</td>\n",
       "      <td>1</td>\n",
       "      <td>0</td>\n",
       "      <td>0</td>\n",
       "      <td>0</td>\n",
       "      <td>1</td>\n",
       "      <td>1</td>\n",
       "      <td>0</td>\n",
       "      <td>0</td>\n",
       "      <td>0</td>\n",
       "      <td>0</td>\n",
       "    </tr>\n",
       "    <tr>\n",
       "      <th>...</th>\n",
       "      <td>...</td>\n",
       "      <td>...</td>\n",
       "      <td>...</td>\n",
       "      <td>...</td>\n",
       "      <td>...</td>\n",
       "      <td>...</td>\n",
       "      <td>...</td>\n",
       "      <td>...</td>\n",
       "      <td>...</td>\n",
       "      <td>...</td>\n",
       "      <td>...</td>\n",
       "      <td>...</td>\n",
       "      <td>...</td>\n",
       "      <td>...</td>\n",
       "      <td>...</td>\n",
       "      <td>...</td>\n",
       "      <td>...</td>\n",
       "      <td>...</td>\n",
       "      <td>...</td>\n",
       "      <td>...</td>\n",
       "      <td>...</td>\n",
       "    </tr>\n",
       "    <tr>\n",
       "      <th>1454</th>\n",
       "      <td>2915</td>\n",
       "      <td>21.0</td>\n",
       "      <td>1936</td>\n",
       "      <td>546</td>\n",
       "      <td>3</td>\n",
       "      <td>51</td>\n",
       "      <td>0</td>\n",
       "      <td>0</td>\n",
       "      <td>0</td>\n",
       "      <td>0</td>\n",
       "      <td>...</td>\n",
       "      <td>0</td>\n",
       "      <td>0</td>\n",
       "      <td>0</td>\n",
       "      <td>0</td>\n",
       "      <td>1</td>\n",
       "      <td>1</td>\n",
       "      <td>0</td>\n",
       "      <td>0</td>\n",
       "      <td>0</td>\n",
       "      <td>0</td>\n",
       "    </tr>\n",
       "    <tr>\n",
       "      <th>1455</th>\n",
       "      <td>2916</td>\n",
       "      <td>21.0</td>\n",
       "      <td>1894</td>\n",
       "      <td>546</td>\n",
       "      <td>3</td>\n",
       "      <td>51</td>\n",
       "      <td>0</td>\n",
       "      <td>0</td>\n",
       "      <td>0</td>\n",
       "      <td>0</td>\n",
       "      <td>...</td>\n",
       "      <td>0</td>\n",
       "      <td>0</td>\n",
       "      <td>0</td>\n",
       "      <td>0</td>\n",
       "      <td>1</td>\n",
       "      <td>0</td>\n",
       "      <td>0</td>\n",
       "      <td>0</td>\n",
       "      <td>1</td>\n",
       "      <td>0</td>\n",
       "    </tr>\n",
       "    <tr>\n",
       "      <th>1456</th>\n",
       "      <td>2917</td>\n",
       "      <td>160.0</td>\n",
       "      <td>20000</td>\n",
       "      <td>1224</td>\n",
       "      <td>4</td>\n",
       "      <td>61</td>\n",
       "      <td>0</td>\n",
       "      <td>1</td>\n",
       "      <td>0</td>\n",
       "      <td>0</td>\n",
       "      <td>...</td>\n",
       "      <td>0</td>\n",
       "      <td>0</td>\n",
       "      <td>0</td>\n",
       "      <td>0</td>\n",
       "      <td>1</td>\n",
       "      <td>0</td>\n",
       "      <td>0</td>\n",
       "      <td>0</td>\n",
       "      <td>0</td>\n",
       "      <td>1</td>\n",
       "    </tr>\n",
       "    <tr>\n",
       "      <th>1457</th>\n",
       "      <td>2918</td>\n",
       "      <td>62.0</td>\n",
       "      <td>10441</td>\n",
       "      <td>970</td>\n",
       "      <td>3</td>\n",
       "      <td>29</td>\n",
       "      <td>0</td>\n",
       "      <td>0</td>\n",
       "      <td>0</td>\n",
       "      <td>0</td>\n",
       "      <td>...</td>\n",
       "      <td>1</td>\n",
       "      <td>0</td>\n",
       "      <td>0</td>\n",
       "      <td>0</td>\n",
       "      <td>1</td>\n",
       "      <td>1</td>\n",
       "      <td>0</td>\n",
       "      <td>0</td>\n",
       "      <td>0</td>\n",
       "      <td>0</td>\n",
       "    </tr>\n",
       "    <tr>\n",
       "      <th>1458</th>\n",
       "      <td>2919</td>\n",
       "      <td>74.0</td>\n",
       "      <td>9627</td>\n",
       "      <td>996</td>\n",
       "      <td>3</td>\n",
       "      <td>28</td>\n",
       "      <td>0</td>\n",
       "      <td>0</td>\n",
       "      <td>0</td>\n",
       "      <td>0</td>\n",
       "      <td>...</td>\n",
       "      <td>1</td>\n",
       "      <td>0</td>\n",
       "      <td>0</td>\n",
       "      <td>0</td>\n",
       "      <td>1</td>\n",
       "      <td>1</td>\n",
       "      <td>0</td>\n",
       "      <td>0</td>\n",
       "      <td>0</td>\n",
       "      <td>0</td>\n",
       "    </tr>\n",
       "  </tbody>\n",
       "</table>\n",
       "<p>1459 rows × 37 columns</p>\n",
       "</div>"
      ],
      "text/plain": [
       "        Id  LotFrontage  LotArea  1stFlrSF  BedroomAbvGr  Age  \\\n",
       "0     1461         80.0    11622       896             2   60   \n",
       "1     1462         81.0    14267      1329             3   63   \n",
       "2     1463         74.0    13830       928             3   24   \n",
       "3     1464         78.0     9978       926             3   23   \n",
       "4     1465         43.0     5005      1280             2   29   \n",
       "...    ...          ...      ...       ...           ...  ...   \n",
       "1454  2915         21.0     1936       546             3   51   \n",
       "1455  2916         21.0     1894       546             3   51   \n",
       "1456  2917        160.0    20000      1224             4   61   \n",
       "1457  2918         62.0    10441       970             3   29   \n",
       "1458  2919         74.0     9627       996             3   28   \n",
       "\n",
       "      HouseStyle_1.5Unf  HouseStyle_1Story  HouseStyle_2.5Fin  \\\n",
       "0                     0                  1                  0   \n",
       "1                     0                  1                  0   \n",
       "2                     0                  0                  0   \n",
       "3                     0                  0                  0   \n",
       "4                     0                  1                  0   \n",
       "...                 ...                ...                ...   \n",
       "1454                  0                  0                  0   \n",
       "1455                  0                  0                  0   \n",
       "1456                  0                  1                  0   \n",
       "1457                  0                  0                  0   \n",
       "1458                  0                  0                  0   \n",
       "\n",
       "      HouseStyle_2.5Unf  ...  Foundation_PConc  Foundation_Slab  \\\n",
       "0                     0  ...                 0                0   \n",
       "1                     0  ...                 0                0   \n",
       "2                     0  ...                 1                0   \n",
       "3                     0  ...                 1                0   \n",
       "4                     0  ...                 1                0   \n",
       "...                 ...  ...               ...              ...   \n",
       "1454                  0  ...                 0                0   \n",
       "1455                  0  ...                 0                0   \n",
       "1456                  0  ...                 0                0   \n",
       "1457                  0  ...                 1                0   \n",
       "1458                  0  ...                 1                0   \n",
       "\n",
       "      Foundation_Stone  Foundation_Wood  CentralAir_Y  GarageType_Attchd  \\\n",
       "0                    0                0             1                  1   \n",
       "1                    0                0             1                  1   \n",
       "2                    0                0             1                  1   \n",
       "3                    0                0             1                  1   \n",
       "4                    0                0             1                  1   \n",
       "...                ...              ...           ...                ...   \n",
       "1454                 0                0             1                  1   \n",
       "1455                 0                0             1                  0   \n",
       "1456                 0                0             1                  0   \n",
       "1457                 0                0             1                  1   \n",
       "1458                 0                0             1                  1   \n",
       "\n",
       "      GarageType_Basment  GarageType_BuiltIn  GarageType_CarPort  \\\n",
       "0                      0                   0                   0   \n",
       "1                      0                   0                   0   \n",
       "2                      0                   0                   0   \n",
       "3                      0                   0                   0   \n",
       "4                      0                   0                   0   \n",
       "...                  ...                 ...                 ...   \n",
       "1454                   0                   0                   0   \n",
       "1455                   0                   0                   1   \n",
       "1456                   0                   0                   0   \n",
       "1457                   0                   0                   0   \n",
       "1458                   0                   0                   0   \n",
       "\n",
       "      GarageType_Detchd  \n",
       "0                     0  \n",
       "1                     0  \n",
       "2                     0  \n",
       "3                     0  \n",
       "4                     0  \n",
       "...                 ...  \n",
       "1454                  0  \n",
       "1455                  0  \n",
       "1456                  1  \n",
       "1457                  0  \n",
       "1458                  0  \n",
       "\n",
       "[1459 rows x 37 columns]"
      ]
     },
     "execution_count": 38,
     "metadata": {},
     "output_type": "execute_result"
    }
   ],
   "source": [
    "df_test=total_dummies.iloc[1460:,:]\n",
    "df_test=df_test.drop('SalePrice',axis=1)\n",
    "df_test"
   ]
  },
  {
   "cell_type": "markdown",
   "metadata": {},
   "source": [
    "### Machine Learning Models"
   ]
  },
  {
   "cell_type": "code",
   "execution_count": 39,
   "metadata": {},
   "outputs": [],
   "source": [
    "from sklearn.model_selection import train_test_split\n",
    "from sklearn.preprocessing import StandardScaler\n",
    "from sklearn.linear_model import LinearRegression\n",
    "from sklearn.model_selection import cross_val_score\n",
    "from sklearn.metrics import mean_absolute_error\n",
    "from sklearn.metrics import mean_squared_error"
   ]
  },
  {
   "cell_type": "markdown",
   "metadata": {},
   "source": [
    "### Multiple Linear Regression"
   ]
  },
  {
   "cell_type": "markdown",
   "metadata": {},
   "source": [
    "The most basic model developed is a multiple linear regression model. A multiple linear regression has a continuous target variable and several predictors. The model works by minimizing the sum of squared errors.  \n",
    "For all modeling purposes, data have been splitted into training (85%) and test (15%) set. To estimate the performance of the developed model on unseen (test) data, a 10-fold cross-validation has been performed."
   ]
  },
  {
   "cell_type": "code",
   "execution_count": 40,
   "metadata": {},
   "outputs": [],
   "source": [
    "# Extracting X (features) and y (response) from df_train for modeling\n",
    "X = df_train.drop('SalePrice', axis =1)\n",
    "y=df_train[\"SalePrice\"]"
   ]
  },
  {
   "cell_type": "code",
   "execution_count": 41,
   "metadata": {},
   "outputs": [],
   "source": [
    "X_train, X_test, y_train, y_test = train_test_split(X, y, test_size=0.15, random_state=101)"
   ]
  },
  {
   "cell_type": "code",
   "execution_count": 42,
   "metadata": {},
   "outputs": [],
   "source": [
    "## Scaling\n",
    "scaler = StandardScaler()"
   ]
  },
  {
   "cell_type": "code",
   "execution_count": 43,
   "metadata": {},
   "outputs": [],
   "source": [
    "X_train = scaler.fit_transform(X_train)"
   ]
  },
  {
   "cell_type": "code",
   "execution_count": 44,
   "metadata": {},
   "outputs": [],
   "source": [
    "X_test = scaler.transform(X_test)"
   ]
  },
  {
   "cell_type": "code",
   "execution_count": 45,
   "metadata": {},
   "outputs": [],
   "source": [
    "lr= LinearRegression()"
   ]
  },
  {
   "cell_type": "code",
   "execution_count": 46,
   "metadata": {},
   "outputs": [],
   "source": [
    "scores = cross_val_score(lr,X_train,y_train,scoring = 'neg_root_mean_squared_error',cv=10)"
   ]
  },
  {
   "cell_type": "code",
   "execution_count": 47,
   "metadata": {},
   "outputs": [
    {
     "data": {
      "text/plain": [
       "array([-40275.61319709, -43003.80190044, -41952.74765294, -36212.42341016,\n",
       "       -53485.29663744, -37888.94747175, -50546.43569187, -34097.67271336,\n",
       "       -35139.29700971, -39293.7788085 ])"
      ]
     },
     "execution_count": 47,
     "metadata": {},
     "output_type": "execute_result"
    }
   ],
   "source": [
    "scores"
   ]
  },
  {
   "cell_type": "code",
   "execution_count": 48,
   "metadata": {},
   "outputs": [
    {
     "data": {
      "text/plain": [
       "41189.6014493243"
      ]
     },
     "execution_count": 48,
     "metadata": {},
     "output_type": "execute_result"
    }
   ],
   "source": [
    "abs(scores.mean())"
   ]
  },
  {
   "cell_type": "code",
   "execution_count": 49,
   "metadata": {},
   "outputs": [
    {
     "data": {
      "text/plain": [
       "LinearRegression()"
      ]
     },
     "execution_count": 49,
     "metadata": {},
     "output_type": "execute_result"
    }
   ],
   "source": [
    "lr.fit(X_train,y_train)"
   ]
  },
  {
   "cell_type": "code",
   "execution_count": 50,
   "metadata": {},
   "outputs": [],
   "source": [
    "y_pred = lr.predict(X_test)"
   ]
  },
  {
   "cell_type": "code",
   "execution_count": 51,
   "metadata": {},
   "outputs": [
    {
     "name": "stdout",
     "output_type": "stream",
     "text": [
      "Mean Absolute Error from Linear Regression: 31200.17128702066\n"
     ]
    }
   ],
   "source": [
    "mae = mean_absolute_error(y_test,y_pred)\n",
    "print(\"Mean Absolute Error from Linear Regression:\", mae)"
   ]
  },
  {
   "cell_type": "code",
   "execution_count": 52,
   "metadata": {},
   "outputs": [
    {
     "name": "stdout",
     "output_type": "stream",
     "text": [
      "Root Mean Squared Error from Linear Regression: 60014.04137206123\n"
     ]
    }
   ],
   "source": [
    "rmse = np.sqrt(mean_squared_error(y_test,y_pred))\n",
    "print(\"Root Mean Squared Error from Linear Regression:\", rmse)"
   ]
  },
  {
   "cell_type": "markdown",
   "metadata": {},
   "source": [
    "### Ridge Regression\n",
    "\n",
    "Ridge regression is often helpful when there are large number of predictors and are multicollinear. This method minimizes the sum of squared errors (just like the multiple linear regression above) plus a penalty term. It helps reducing the potential for overfitting to the data. Following the bias-variance trade-off, ridge regression works by allowing some bias in the training data so that variance is reduced while making predictions. As the value of tuning parameter alpha increases, the model complexity reduces. Though higher values of alpha reduce overfitting, significantly high values can cause underfitting as well."
   ]
  },
  {
   "cell_type": "code",
   "execution_count": 53,
   "metadata": {},
   "outputs": [],
   "source": [
    "from sklearn.linear_model import Ridge\n",
    "from sklearn.model_selection import GridSearchCV"
   ]
  },
  {
   "cell_type": "code",
   "execution_count": 54,
   "metadata": {},
   "outputs": [],
   "source": [
    "mod_ridge = Ridge(random_state=101)"
   ]
  },
  {
   "cell_type": "code",
   "execution_count": 55,
   "metadata": {},
   "outputs": [],
   "source": [
    "param_grid = {'alpha':[0.01,0.1,0.5,1,2,5]}"
   ]
  },
  {
   "cell_type": "code",
   "execution_count": 56,
   "metadata": {},
   "outputs": [],
   "source": [
    "grid_model_ridge = GridSearchCV(estimator=mod_ridge,\n",
    "                         param_grid=param_grid,\n",
    "                         scoring = 'neg_root_mean_squared_error',\n",
    "                         cv=10,verbose=1)"
   ]
  },
  {
   "cell_type": "code",
   "execution_count": 57,
   "metadata": {},
   "outputs": [
    {
     "name": "stdout",
     "output_type": "stream",
     "text": [
      "Fitting 10 folds for each of 6 candidates, totalling 60 fits\n"
     ]
    },
    {
     "name": "stderr",
     "output_type": "stream",
     "text": [
      "[Parallel(n_jobs=1)]: Using backend SequentialBackend with 1 concurrent workers.\n",
      "[Parallel(n_jobs=1)]: Done  60 out of  60 | elapsed:    0.1s finished\n"
     ]
    },
    {
     "data": {
      "text/plain": [
       "GridSearchCV(cv=10, estimator=Ridge(random_state=101),\n",
       "             param_grid={'alpha': [0.01, 0.1, 0.5, 1, 2, 5]},\n",
       "             scoring='neg_root_mean_squared_error', verbose=1)"
      ]
     },
     "execution_count": 57,
     "metadata": {},
     "output_type": "execute_result"
    }
   ],
   "source": [
    "grid_model_ridge.fit(X_train,y_train)"
   ]
  },
  {
   "cell_type": "code",
   "execution_count": 58,
   "metadata": {},
   "outputs": [
    {
     "data": {
      "text/plain": [
       "({'alpha': 5}, -41161.49651390447)"
      ]
     },
     "execution_count": 58,
     "metadata": {},
     "output_type": "execute_result"
    }
   ],
   "source": [
    "grid_model_ridge.best_params_, grid_model_ridge.best_score_ "
   ]
  },
  {
   "cell_type": "code",
   "execution_count": 59,
   "metadata": {},
   "outputs": [],
   "source": [
    "y_pred = grid_model_ridge.predict(X_test)"
   ]
  },
  {
   "cell_type": "code",
   "execution_count": 60,
   "metadata": {},
   "outputs": [
    {
     "name": "stdout",
     "output_type": "stream",
     "text": [
      "Mean Absolute Error from Ridge Regression: 31133.250283353882\n"
     ]
    }
   ],
   "source": [
    "mae = mean_absolute_error(y_test,y_pred)\n",
    "print(\"Mean Absolute Error from Ridge Regression:\", mae)"
   ]
  },
  {
   "cell_type": "code",
   "execution_count": 61,
   "metadata": {},
   "outputs": [
    {
     "name": "stdout",
     "output_type": "stream",
     "text": [
      "Root Mean Squared Error from Ridge Regression: 59787.40503957871\n"
     ]
    }
   ],
   "source": [
    "rmse = np.sqrt(mean_squared_error(y_test,y_pred))\n",
    "print(\"Root Mean Squared Error from Ridge Regression:\", rmse)"
   ]
  },
  {
   "cell_type": "markdown",
   "metadata": {},
   "source": [
    "### K Nearest Neighbors\n",
    "\n",
    "This is a simple, easy-to-use algorithm that assumes similar things exist is close proximity. Using k number of closest data points (neighbors) where 'close' is defined using some distance matrix, predictions are made for a particular data point. This number 'k' has an important role in the algorithm and is chosen using cross-validation from a range of values."
   ]
  },
  {
   "cell_type": "code",
   "execution_count": 71,
   "metadata": {},
   "outputs": [],
   "source": [
    "from sklearn.neighbors import KNeighborsRegressor"
   ]
  },
  {
   "cell_type": "code",
   "execution_count": 72,
   "metadata": {},
   "outputs": [],
   "source": [
    "knn_mod = KNeighborsRegressor()"
   ]
  },
  {
   "cell_type": "code",
   "execution_count": 73,
   "metadata": {},
   "outputs": [],
   "source": [
    "k_range = list(range(1,21))"
   ]
  },
  {
   "cell_type": "code",
   "execution_count": 74,
   "metadata": {},
   "outputs": [],
   "source": [
    "param_grid = dict(n_neighbors = k_range)"
   ]
  },
  {
   "cell_type": "code",
   "execution_count": 75,
   "metadata": {},
   "outputs": [],
   "source": [
    "grid_model_knn = GridSearchCV(estimator=knn_mod,\n",
    "                         param_grid=param_grid,\n",
    "                         scoring = 'neg_root_mean_squared_error',\n",
    "                         cv=10,verbose=1)"
   ]
  },
  {
   "cell_type": "code",
   "execution_count": 76,
   "metadata": {},
   "outputs": [
    {
     "name": "stderr",
     "output_type": "stream",
     "text": [
      "[Parallel(n_jobs=1)]: Using backend SequentialBackend with 1 concurrent workers.\n"
     ]
    },
    {
     "name": "stdout",
     "output_type": "stream",
     "text": [
      "Fitting 10 folds for each of 20 candidates, totalling 200 fits\n"
     ]
    },
    {
     "name": "stderr",
     "output_type": "stream",
     "text": [
      "[Parallel(n_jobs=1)]: Done 200 out of 200 | elapsed:    1.4s finished\n"
     ]
    },
    {
     "data": {
      "text/plain": [
       "GridSearchCV(cv=10, estimator=KNeighborsRegressor(),\n",
       "             param_grid={'n_neighbors': [1, 2, 3, 4, 5, 6, 7, 8, 9, 10, 11, 12,\n",
       "                                         13, 14, 15, 16, 17, 18, 19, 20]},\n",
       "             scoring='neg_root_mean_squared_error', verbose=1)"
      ]
     },
     "execution_count": 76,
     "metadata": {},
     "output_type": "execute_result"
    }
   ],
   "source": [
    "grid_model_knn.fit(X_train,y_train)"
   ]
  },
  {
   "cell_type": "code",
   "execution_count": 77,
   "metadata": {},
   "outputs": [
    {
     "data": {
      "text/plain": [
       "({'n_neighbors': 10}, -46868.63186496632)"
      ]
     },
     "execution_count": 77,
     "metadata": {},
     "output_type": "execute_result"
    }
   ],
   "source": [
    "grid_model_knn.best_params_, grid_model_knn.best_score_  "
   ]
  },
  {
   "cell_type": "code",
   "execution_count": 78,
   "metadata": {},
   "outputs": [],
   "source": [
    "y_pred_knn = grid_model_knn.predict(X_test)"
   ]
  },
  {
   "cell_type": "code",
   "execution_count": 79,
   "metadata": {},
   "outputs": [
    {
     "name": "stdout",
     "output_type": "stream",
     "text": [
      "Mean Absolute Error from KNN Regression: 30993.492\n"
     ]
    }
   ],
   "source": [
    "mae = mean_absolute_error(y_test,y_pred_knn)\n",
    "print(\"Mean Absolute Error from KNN Regression:\", \"{:.3f}\".format(mae))"
   ]
  },
  {
   "cell_type": "code",
   "execution_count": 80,
   "metadata": {},
   "outputs": [
    {
     "name": "stdout",
     "output_type": "stream",
     "text": [
      "Root Mean Squared Error from KNN Regression: 46571.273\n"
     ]
    }
   ],
   "source": [
    "rmse = np.sqrt(mean_squared_error(y_test,y_pred_knn))\n",
    "print(\"Root Mean Squared Error from KNN Regression:\", \"{:.3f}\".format(rmse))"
   ]
  },
  {
   "cell_type": "markdown",
   "metadata": {},
   "source": [
    "### Random Forest\n",
    "\n",
    "This technique involve building several decision trees on bootstrapped training samples. When these trees are built, only a random sample of m predictors are chosen as split candidates from a full set of p predictors (m<p). The n_estimators argument specifies the number of trees in the forest. More trees will induce computational complexity of the algorithm. The max_depth of a tree is the longest path between the root node and the leaf node."
   ]
  },
  {
   "cell_type": "code",
   "execution_count": 81,
   "metadata": {},
   "outputs": [],
   "source": [
    "from sklearn.ensemble import RandomForestRegressor"
   ]
  },
  {
   "cell_type": "code",
   "execution_count": 82,
   "metadata": {},
   "outputs": [],
   "source": [
    "rf_mod=RandomForestRegressor(random_state=111)"
   ]
  },
  {
   "cell_type": "code",
   "execution_count": 83,
   "metadata": {},
   "outputs": [],
   "source": [
    "param_grid = { \n",
    "    'n_estimators': [100,200,300,500],\n",
    "    'max_depth' : [4,5,6,7,8],\n",
    "}"
   ]
  },
  {
   "cell_type": "code",
   "execution_count": 84,
   "metadata": {},
   "outputs": [],
   "source": [
    "grid_model_rf = GridSearchCV(estimator=rf_mod,\n",
    "                         param_grid=param_grid,\n",
    "                         scoring = 'neg_root_mean_squared_error',\n",
    "                         cv=10,verbose=1)"
   ]
  },
  {
   "cell_type": "code",
   "execution_count": 85,
   "metadata": {},
   "outputs": [
    {
     "name": "stderr",
     "output_type": "stream",
     "text": [
      "[Parallel(n_jobs=1)]: Using backend SequentialBackend with 1 concurrent workers.\n"
     ]
    },
    {
     "name": "stdout",
     "output_type": "stream",
     "text": [
      "Fitting 10 folds for each of 20 candidates, totalling 200 fits\n"
     ]
    },
    {
     "name": "stderr",
     "output_type": "stream",
     "text": [
      "[Parallel(n_jobs=1)]: Done 200 out of 200 | elapsed:  1.7min finished\n"
     ]
    },
    {
     "data": {
      "text/plain": [
       "GridSearchCV(cv=10, estimator=RandomForestRegressor(random_state=111),\n",
       "             param_grid={'max_depth': [4, 5, 6, 7, 8],\n",
       "                         'n_estimators': [100, 200, 300, 500]},\n",
       "             scoring='neg_root_mean_squared_error', verbose=1)"
      ]
     },
     "execution_count": 85,
     "metadata": {},
     "output_type": "execute_result"
    }
   ],
   "source": [
    "grid_model_rf.fit(X_train,y_train)"
   ]
  },
  {
   "cell_type": "code",
   "execution_count": 86,
   "metadata": {},
   "outputs": [
    {
     "data": {
      "text/plain": [
       "({'max_depth': 8, 'n_estimators': 500}, -36565.57536248879)"
      ]
     },
     "execution_count": 86,
     "metadata": {},
     "output_type": "execute_result"
    }
   ],
   "source": [
    "grid_model_rf.best_params_, grid_model_rf.best_score_  "
   ]
  },
  {
   "cell_type": "code",
   "execution_count": 87,
   "metadata": {},
   "outputs": [],
   "source": [
    "y_pred_rf = grid_model_rf.predict(X_test)"
   ]
  },
  {
   "cell_type": "code",
   "execution_count": 88,
   "metadata": {},
   "outputs": [
    {
     "name": "stdout",
     "output_type": "stream",
     "text": [
      "Mean Absolute Error from Random Forest Regressor: 24616.958\n"
     ]
    }
   ],
   "source": [
    "mae = mean_absolute_error(y_test,y_pred_rf)\n",
    "print(\"Mean Absolute Error from Random Forest Regressor:\", \"{:.3f}\".format(mae))"
   ]
  },
  {
   "cell_type": "code",
   "execution_count": 89,
   "metadata": {},
   "outputs": [
    {
     "name": "stdout",
     "output_type": "stream",
     "text": [
      "Root Mean Squared Error from Random Forest Regressor: 40329.539\n"
     ]
    }
   ],
   "source": [
    "rmse = np.sqrt(mean_squared_error(y_test,y_pred_rf))\n",
    "print(\"Root Mean Squared Error from Random Forest Regressor:\",\"{:.3f}\".format(rmse))"
   ]
  },
  {
   "cell_type": "markdown",
   "metadata": {},
   "source": [
    "### XGBoost"
   ]
  },
  {
   "cell_type": "markdown",
   "metadata": {},
   "source": [
    "XGBoost stands for eXtreme Gradient Boosted Trees. Boosting attempts to accurately predict a target variable by combining the estimates of a set of simpler models. XGBoost improves model performances and computational speed and that's why it is one of the popular choice in machine learning. The algorithm below requires specification of the number of gradient boosted trees (n_estimators), maximum tree depth and the boosting learning rate, also called shrinkage. Smaller learning rate requires more trees to be added to the model."
   ]
  },
  {
   "cell_type": "code",
   "execution_count": 90,
   "metadata": {},
   "outputs": [],
   "source": [
    "from xgboost import XGBRegressor"
   ]
  },
  {
   "cell_type": "code",
   "execution_count": 91,
   "metadata": {},
   "outputs": [],
   "source": [
    "xgb_mod = XGBRegressor(random_state=101)"
   ]
  },
  {
   "cell_type": "code",
   "execution_count": 92,
   "metadata": {},
   "outputs": [],
   "source": [
    "param_grid = {\n",
    "    'n_estimators':[100,200,300,500],\n",
    "    'max_depth':[4,5,6,7,8],\n",
    "    'learning_rate':[0.2,0.1,0.05,0.01]\n",
    "}"
   ]
  },
  {
   "cell_type": "code",
   "execution_count": 93,
   "metadata": {},
   "outputs": [],
   "source": [
    "grid_model_xgb = GridSearchCV(estimator=xgb_mod,\n",
    "                         param_grid=param_grid,\n",
    "                         scoring = 'neg_root_mean_squared_error',\n",
    "                         cv=10,verbose=1)"
   ]
  },
  {
   "cell_type": "code",
   "execution_count": 94,
   "metadata": {},
   "outputs": [
    {
     "name": "stdout",
     "output_type": "stream",
     "text": [
      "Fitting 10 folds for each of 80 candidates, totalling 800 fits\n"
     ]
    },
    {
     "name": "stderr",
     "output_type": "stream",
     "text": [
      "[Parallel(n_jobs=1)]: Using backend SequentialBackend with 1 concurrent workers.\n",
      "[Parallel(n_jobs=1)]: Done 800 out of 800 | elapsed:  4.4min finished\n"
     ]
    },
    {
     "data": {
      "text/plain": [
       "GridSearchCV(cv=10,\n",
       "             estimator=XGBRegressor(base_score=None, booster=None,\n",
       "                                    colsample_bylevel=None,\n",
       "                                    colsample_bynode=None,\n",
       "                                    colsample_bytree=None, gamma=None,\n",
       "                                    gpu_id=None, importance_type='gain',\n",
       "                                    interaction_constraints=None,\n",
       "                                    learning_rate=None, max_delta_step=None,\n",
       "                                    max_depth=None, min_child_weight=None,\n",
       "                                    missing=nan, monotone_constraints=None,\n",
       "                                    n_estimators=100, n_jobs=None,\n",
       "                                    num_parallel_tree=None, random_state=101,\n",
       "                                    reg_alpha=None, reg_lambda=None,\n",
       "                                    scale_pos_weight=None, subsample=None,\n",
       "                                    tree_method=None, validate_parameters=None,\n",
       "                                    verbosity=None),\n",
       "             param_grid={'learning_rate': [0.2, 0.1, 0.05, 0.01],\n",
       "                         'max_depth': [4, 5, 6, 7, 8],\n",
       "                         'n_estimators': [100, 200, 300, 500]},\n",
       "             scoring='neg_root_mean_squared_error', verbose=1)"
      ]
     },
     "execution_count": 94,
     "metadata": {},
     "output_type": "execute_result"
    }
   ],
   "source": [
    "grid_model_xgb.fit(X_train,y_train)"
   ]
  },
  {
   "cell_type": "code",
   "execution_count": 95,
   "metadata": {},
   "outputs": [
    {
     "data": {
      "text/plain": [
       "({'learning_rate': 0.05, 'max_depth': 5, 'n_estimators': 200},\n",
       " -35360.04421313682)"
      ]
     },
     "execution_count": 95,
     "metadata": {},
     "output_type": "execute_result"
    }
   ],
   "source": [
    "grid_model_xgb.best_params_, grid_model_xgb.best_score_  "
   ]
  },
  {
   "cell_type": "code",
   "execution_count": 96,
   "metadata": {},
   "outputs": [],
   "source": [
    "y_pred_xgb = grid_model_xgb.predict(X_test)"
   ]
  },
  {
   "cell_type": "code",
   "execution_count": 97,
   "metadata": {},
   "outputs": [
    {
     "name": "stdout",
     "output_type": "stream",
     "text": [
      "Mean Absolute Error from XGBoost: 21221.316\n"
     ]
    }
   ],
   "source": [
    "mae = mean_absolute_error(y_test,y_pred_xgb)\n",
    "print(\"Mean Absolute Error from XGBoost:\", \"{:.3f}\".format(mae))"
   ]
  },
  {
   "cell_type": "code",
   "execution_count": 98,
   "metadata": {},
   "outputs": [
    {
     "name": "stdout",
     "output_type": "stream",
     "text": [
      "Root Mean Squared Error from XGBoost: 32652.667\n"
     ]
    }
   ],
   "source": [
    "rmse = np.sqrt(mean_squared_error(y_test,y_pred_xgb))\n",
    "print(\"Root Mean Squared Error from XGBoost:\",\"{:.3f}\".format(rmse))"
   ]
  },
  {
   "cell_type": "markdown",
   "metadata": {},
   "source": [
    "### Support Vector Regressor\n",
    "\n",
    "Support vector machines (SVM) are widely used in classification problems although they can be used for regression as well. SVM tries to find a line/hyperplane (in multidimensional space) that separates classes for classification problems. Support vector regression (SVR) considers the points that are within the decision boundary line. The line/hyperplane that has maximum number of points is considered the best. This method uses a kernel which transforms linearly inseparable data to separable data by adding more dimensions to it. Another parameter C is called regularization parameter where the strength of the regularization is inversely proportional to C. C must be strictly positive. Gamma specifies the kernel coefficient for ‘rbf’, ‘poly’ and ‘sigmoid’ kernel."
   ]
  },
  {
   "cell_type": "code",
   "execution_count": 99,
   "metadata": {},
   "outputs": [],
   "source": [
    "from sklearn.svm import SVR"
   ]
  },
  {
   "cell_type": "code",
   "execution_count": 100,
   "metadata": {},
   "outputs": [],
   "source": [
    "svr_mod = SVR()"
   ]
  },
  {
   "cell_type": "code",
   "execution_count": 101,
   "metadata": {},
   "outputs": [],
   "source": [
    "param_grid = {\n",
    "    'kernel':['linear','rbf'],\n",
    "    'C': [0.01,0.1,1,5,10,50,100],\n",
    "    'gamma':['auto','scale'],\n",
    "}"
   ]
  },
  {
   "cell_type": "code",
   "execution_count": 102,
   "metadata": {},
   "outputs": [],
   "source": [
    "grid_model_svr = GridSearchCV(estimator=svr_mod,\n",
    "                         param_grid=param_grid,\n",
    "                         scoring = 'neg_root_mean_squared_error',\n",
    "                         cv=10,verbose=1)"
   ]
  },
  {
   "cell_type": "code",
   "execution_count": 103,
   "metadata": {},
   "outputs": [
    {
     "name": "stdout",
     "output_type": "stream",
     "text": [
      "Fitting 10 folds for each of 28 candidates, totalling 280 fits\n"
     ]
    },
    {
     "name": "stderr",
     "output_type": "stream",
     "text": [
      "[Parallel(n_jobs=1)]: Using backend SequentialBackend with 1 concurrent workers.\n",
      "[Parallel(n_jobs=1)]: Done 280 out of 280 | elapsed:   12.4s finished\n"
     ]
    },
    {
     "data": {
      "text/plain": [
       "GridSearchCV(cv=10, estimator=SVR(),\n",
       "             param_grid={'C': [0.01, 0.1, 1, 5, 10, 50, 100],\n",
       "                         'gamma': ['auto', 'scale'],\n",
       "                         'kernel': ['linear', 'rbf']},\n",
       "             scoring='neg_root_mean_squared_error', verbose=1)"
      ]
     },
     "execution_count": 103,
     "metadata": {},
     "output_type": "execute_result"
    }
   ],
   "source": [
    "grid_model_svr.fit(X_train,y_train)"
   ]
  },
  {
   "cell_type": "code",
   "execution_count": 104,
   "metadata": {},
   "outputs": [
    {
     "data": {
      "text/plain": [
       "({'C': 100, 'gamma': 'auto', 'kernel': 'linear'}, -48688.92351486803)"
      ]
     },
     "execution_count": 104,
     "metadata": {},
     "output_type": "execute_result"
    }
   ],
   "source": [
    "grid_model_svr.best_params_, grid_model_svr.best_score_  "
   ]
  },
  {
   "cell_type": "code",
   "execution_count": 105,
   "metadata": {},
   "outputs": [],
   "source": [
    "y_pred_svr = grid_model_svr.predict(X_test)"
   ]
  },
  {
   "cell_type": "code",
   "execution_count": 106,
   "metadata": {},
   "outputs": [
    {
     "name": "stdout",
     "output_type": "stream",
     "text": [
      "Mean Absolute Error from Support Vector Regression: 30353.509\n"
     ]
    }
   ],
   "source": [
    "mae = mean_absolute_error(y_test,y_pred_svr)\n",
    "print(\"Mean Absolute Error from Support Vector Regression:\", \"{:.3f}\".format(mae))"
   ]
  },
  {
   "cell_type": "code",
   "execution_count": 107,
   "metadata": {},
   "outputs": [
    {
     "name": "stdout",
     "output_type": "stream",
     "text": [
      "Root Mean Squared Error from Support Vector Regression: 53120.008\n"
     ]
    }
   ],
   "source": [
    "rmse = np.sqrt(mean_squared_error(y_test,y_pred_svr))\n",
    "print(\"Root Mean Squared Error from Support Vector Regression:\", \"{:.3f}\".format(rmse))"
   ]
  },
  {
   "cell_type": "markdown",
   "metadata": {},
   "source": [
    "## Choosing the best performing model"
   ]
  },
  {
   "cell_type": "markdown",
   "metadata": {},
   "source": [
    "Various performance metrics are available for selecting the best regression model. I used mean absolute error and root mean squared error for this study: lower the better. Based on the values of these measures, the XGBoost model has been choosen as the best model and will be used for prediction in the test dataset."
   ]
  },
  {
   "cell_type": "code",
   "execution_count": 108,
   "metadata": {},
   "outputs": [],
   "source": [
    "final_model = XGBRegressor(n_estimators=200, max_depth=5,learning_rate=0.05,random_state=101)"
   ]
  },
  {
   "cell_type": "code",
   "execution_count": 109,
   "metadata": {},
   "outputs": [
    {
     "data": {
      "text/plain": [
       "XGBRegressor(base_score=0.5, booster='gbtree', colsample_bylevel=1,\n",
       "             colsample_bynode=1, colsample_bytree=1, gamma=0, gpu_id=-1,\n",
       "             importance_type='gain', interaction_constraints='',\n",
       "             learning_rate=0.05, max_delta_step=0, max_depth=5,\n",
       "             min_child_weight=1, missing=nan, monotone_constraints='()',\n",
       "             n_estimators=200, n_jobs=8, num_parallel_tree=1, random_state=101,\n",
       "             reg_alpha=0, reg_lambda=1, scale_pos_weight=1, subsample=1,\n",
       "             tree_method='exact', validate_parameters=1, verbosity=None)"
      ]
     },
     "execution_count": 109,
     "metadata": {},
     "output_type": "execute_result"
    }
   ],
   "source": [
    "final_model.fit(X,y)  # the final model will now be trained using whole training dataset"
   ]
  },
  {
   "cell_type": "markdown",
   "metadata": {},
   "source": [
    "## Using the best model to make predictions"
   ]
  },
  {
   "cell_type": "code",
   "execution_count": 110,
   "metadata": {},
   "outputs": [],
   "source": [
    "from joblib import dump,load"
   ]
  },
  {
   "cell_type": "code",
   "execution_count": 111,
   "metadata": {},
   "outputs": [
    {
     "data": {
      "text/plain": [
       "['model_for_pred.joblib']"
      ]
     },
     "execution_count": 111,
     "metadata": {},
     "output_type": "execute_result"
    }
   ],
   "source": [
    "dump(final_model, 'model_for_pred.joblib')"
   ]
  },
  {
   "cell_type": "code",
   "execution_count": 112,
   "metadata": {},
   "outputs": [],
   "source": [
    "loaded_model = load('model_for_pred.joblib')"
   ]
  },
  {
   "cell_type": "code",
   "execution_count": 113,
   "metadata": {},
   "outputs": [],
   "source": [
    "predicted_price = loaded_model.predict(df_test.iloc[:,1:])"
   ]
  },
  {
   "cell_type": "code",
   "execution_count": 114,
   "metadata": {},
   "outputs": [
    {
     "data": {
      "text/plain": [
       "array([119166.02, 167582.08, 204373.34, ..., 173318.7 , 148891.38,\n",
       "       208725.25], dtype=float32)"
      ]
     },
     "execution_count": 114,
     "metadata": {},
     "output_type": "execute_result"
    }
   ],
   "source": [
    "predicted_price"
   ]
  },
  {
   "cell_type": "code",
   "execution_count": 115,
   "metadata": {},
   "outputs": [],
   "source": [
    "output = pd.DataFrame({'Id': df_test['Id'], 'SalePrice': predicted_price})"
   ]
  },
  {
   "cell_type": "code",
   "execution_count": 116,
   "metadata": {},
   "outputs": [
    {
     "name": "stdout",
     "output_type": "stream",
     "text": [
      "   Id      SalePrice\n",
      " 1461  119166.023438\n",
      " 1462  167582.078125\n",
      " 1463  204373.343750\n",
      " 1464  210011.281250\n",
      " 1465  182088.656250\n",
      " 1466  195827.640625\n",
      " 1467  172109.296875\n",
      " 1468  182812.437500\n",
      " 1469  188204.781250\n",
      " 1470  115560.515625\n",
      " 1471  194660.453125\n",
      " 1472   98229.195312\n",
      " 1473   95075.921875\n",
      " 1474  142648.093750\n",
      " 1475  119133.718750\n",
      " 1476  386228.781250\n",
      " 1477  266666.500000\n",
      " 1478  279066.000000\n",
      " 1479  327439.937500\n",
      " 1480  491226.125000\n",
      " 1481  360509.625000\n",
      " 1482  206039.265625\n",
      " 1483  174608.500000\n",
      " 1484  168043.265625\n",
      " 1485  155581.343750\n",
      " 1486  201393.953125\n",
      " 1487  366450.500000\n",
      " 1488  237771.750000\n",
      " 1489  238331.078125\n",
      " 1490  228182.062500\n",
      " 1491  199532.609375\n",
      " 1492   85860.757812\n",
      " 1493  200257.406250\n",
      " 1494  296923.781250\n",
      " 1495  286868.250000\n",
      " 1496  231832.843750\n",
      " 1497  168776.703125\n",
      " 1498  159252.125000\n",
      " 1499  154798.796875\n",
      " 1500  154798.796875\n",
      " 1501  170064.546875\n",
      " 1502  152338.046875\n",
      " 1503  281986.687500\n",
      " 1504  198206.250000\n",
      " 1505  216165.265625\n",
      " 1506  189686.203125\n",
      " 1507  288159.562500\n",
      " 1508  190818.515625\n",
      " 1509  164477.593750\n",
      " 1510  148623.531250\n",
      " 1511  139886.812500\n",
      " 1512  155631.875000\n",
      " 1513  153859.390625\n",
      " 1514  151342.578125\n",
      " 1515  223375.437500\n",
      " 1516  150312.531250\n",
      " 1517  160584.265625\n",
      " 1518  135250.984375\n",
      " 1519  212531.156250\n",
      " 1520  140184.687500\n",
      " 1521  149460.203125\n",
      " 1522  159237.328125\n",
      " 1523  125148.218750\n",
      " 1524  120848.625000\n",
      " 1525  124252.976562\n",
      " 1526  129451.031250\n",
      " 1527  103917.476562\n",
      " 1528  127668.398438\n",
      " 1529  144230.046875\n",
      " 1530  154228.500000\n",
      " 1531  105018.890625\n",
      " 1532   98673.078125\n",
      " 1533  133568.062500\n",
      " 1534  127080.203125\n",
      " 1535  147927.796875\n",
      " 1536  136766.890625\n",
      " 1537   82601.601562\n",
      " 1538  120351.359375\n",
      " 1539  139055.359375\n",
      " 1540  143347.421875\n",
      " 1541  141660.906250\n",
      " 1542  131111.968750\n",
      " 1543  148556.625000\n",
      " 1544   78719.164062\n",
      " 1545  101454.242188\n",
      " 1546  121226.554688\n",
      " 1547  133814.156250\n",
      " 1548  116901.921875\n",
      " 1549  103389.554688\n",
      " 1550  136083.375000\n",
      " 1551  114801.140625\n",
      " 1552  132386.046875\n",
      " 1553  151630.843750\n",
      " 1554  126790.804688\n",
      " 1555  198110.062500\n",
      " 1556  112226.414062\n",
      " 1557  126915.828125\n",
      " 1558   90721.062500\n",
      " 1559  125273.210938\n",
      " 1560  118241.640625\n",
      " 1561  136267.437500\n",
      " 1562  119612.914062\n",
      " 1563  116479.507812\n",
      " 1564  154414.328125\n",
      " 1565  160717.390625\n",
      " 1566  214212.078125\n",
      " 1567   82192.992188\n",
      " 1568  193912.718750\n",
      " 1569  192653.609375\n",
      " 1570  132789.046875\n",
      " 1571  139603.796875\n",
      " 1572  140546.906250\n",
      " 1573  269477.875000\n",
      " 1574  144476.859375\n",
      " 1575  219642.671875\n",
      " 1576  209452.453125\n",
      " 1577  208460.343750\n",
      " 1578  142859.437500\n",
      " 1579  160666.078125\n",
      " 1580  199052.937500\n",
      " 1581  147083.437500\n",
      " 1582  123251.062500\n",
      " 1583  310161.375000\n",
      " 1584  241658.906250\n",
      " 1585  145482.406250\n",
      " 1586   71853.773438\n",
      " 1587  123819.437500\n",
      " 1588  142704.843750\n",
      " 1589  109122.648438\n",
      " 1590  142520.640625\n",
      " 1591  120413.343750\n",
      " 1592  115068.398438\n",
      " 1593  107247.031250\n",
      " 1594  136980.734375\n",
      " 1595  131359.750000\n",
      " 1596  154599.718750\n",
      " 1597  171642.343750\n",
      " 1598  144790.859375\n",
      " 1599  158649.781250\n",
      " 1600  169125.500000\n",
      " 1601   93888.546875\n",
      " 1602  109090.328125\n",
      " 1603  104810.117188\n",
      " 1604  262106.796875\n",
      " 1605  238839.781250\n",
      " 1606  158065.062500\n",
      " 1607  193982.609375\n",
      " 1608  222663.250000\n",
      " 1609  207216.937500\n",
      " 1610  191892.906250\n",
      " 1611  171616.843750\n",
      " 1612  200567.703125\n",
      " 1613  189742.093750\n",
      " 1614  108805.851562\n",
      " 1615   84676.132812\n",
      " 1616   84676.132812\n",
      " 1617   85261.484375\n",
      " 1618  117286.125000\n",
      " 1619  134006.359375\n",
      " 1620  213237.671875\n",
      " 1621  175162.421875\n",
      " 1622  134714.125000\n",
      " 1623  245217.234375\n",
      " 1624  237784.390625\n",
      " 1625  125900.226562\n",
      " 1626  165359.968750\n",
      " 1627  212281.484375\n",
      " 1628  245470.718750\n",
      " 1629  171691.890625\n",
      " 1630  486788.031250\n",
      " 1631  226926.562500\n",
      " 1632  280370.281250\n",
      " 1633  160347.046875\n",
      " 1634  192529.312500\n",
      " 1635  177276.500000\n",
      " 1636  166054.937500\n",
      " 1637  173588.125000\n",
      " 1638  206568.953125\n",
      " 1639  187122.140625\n",
      " 1640  301626.062500\n",
      " 1641  188952.343750\n",
      " 1642  210410.093750\n",
      " 1643  218837.656250\n",
      " 1644  196304.203125\n",
      " 1645  165860.156250\n",
      " 1646  150642.187500\n",
      " 1647  157687.765625\n",
      " 1648  138643.812500\n",
      " 1649  131328.406250\n",
      " 1650  117883.570312\n",
      " 1651  120129.945312\n",
      " 1652   98814.546875\n",
      " 1653   98814.546875\n",
      " 1654  141580.968750\n",
      " 1655  129174.984375\n",
      " 1656  142648.093750\n",
      " 1657  143910.578125\n",
      " 1658  144884.234375\n",
      " 1659  119133.718750\n",
      " 1660  136063.796875\n",
      " 1661  522190.250000\n",
      " 1662  344338.500000\n",
      " 1663  365122.031250\n",
      " 1664  517079.218750\n",
      " 1665  315100.937500\n",
      " 1666  304278.968750\n",
      " 1667  407907.468750\n",
      " 1668  350268.125000\n",
      " 1669  244037.484375\n",
      " 1670  374168.156250\n",
      " 1671  313710.406250\n",
      " 1672  548821.375000\n",
      " 1673  275810.312500\n",
      " 1674  235130.875000\n",
      " 1675  200142.828125\n",
      " 1676  199411.265625\n",
      " 1677  213681.531250\n",
      " 1678  554081.062500\n",
      " 1679  402388.031250\n",
      " 1680  392619.781250\n",
      " 1681  303534.750000\n",
      " 1682  296237.468750\n",
      " 1683  189439.125000\n",
      " 1684  181656.687500\n",
      " 1685  173895.171875\n",
      " 1686  167500.140625\n",
      " 1687  155055.953125\n",
      " 1688  202821.937500\n",
      " 1689  193850.859375\n",
      " 1690  187742.187500\n",
      " 1691  178408.625000\n",
      " 1692  219666.750000\n",
      " 1693  155055.953125\n",
      " 1694  189051.890625\n",
      " 1695  167207.296875\n",
      " 1696  266766.750000\n",
      " 1697  168336.890625\n",
      " 1698  372599.281250\n",
      " 1699  277921.406250\n",
      " 1700  231341.109375\n",
      " 1701  244377.890625\n",
      " 1702  308715.468750\n",
      " 1703  271400.843750\n",
      " 1704  280666.781250\n",
      " 1705  226483.390625\n",
      " 1706  447468.093750\n",
      " 1707  236233.906250\n",
      " 1708  269787.781250\n",
      " 1709  240985.296875\n",
      " 1710  221594.781250\n",
      " 1711  225632.562500\n",
      " 1712  308610.375000\n",
      " 1713  241596.671875\n",
      " 1714  217708.312500\n",
      " 1715  191096.375000\n",
      " 1716  187477.812500\n",
      " 1717  167039.734375\n",
      " 1718  166777.281250\n",
      " 1719  221263.171875\n",
      " 1720  225116.593750\n",
      " 1721  156964.062500\n",
      " 1722  158901.359375\n",
      " 1723  156964.062500\n",
      " 1724  284492.843750\n",
      " 1725  206823.625000\n",
      " 1726  188463.703125\n",
      " 1727  188005.453125\n",
      " 1728  178928.515625\n",
      " 1729  174310.093750\n",
      " 1730  159114.093750\n",
      " 1731  129295.835938\n",
      " 1732  122497.906250\n",
      " 1733  115791.015625\n",
      " 1734  132772.046875\n",
      " 1735  128661.242188\n",
      " 1736  123923.578125\n",
      " 1737  279328.937500\n",
      " 1738  197637.296875\n",
      " 1739  257437.781250\n",
      " 1740  293301.000000\n",
      " 1741  190391.375000\n",
      " 1742  164551.812500\n",
      " 1743  162004.687500\n",
      " 1744  222186.546875\n",
      " 1745  252436.843750\n",
      " 1746  181008.093750\n",
      " 1747  210530.656250\n",
      " 1748  209538.765625\n",
      " 1749  150493.656250\n",
      " 1750  143524.984375\n",
      " 1751  241793.734375\n",
      " 1752  112520.992188\n",
      " 1753  166354.187500\n",
      " 1754  209451.156250\n",
      " 1755  171817.734375\n",
      " 1756  117975.171875\n",
      " 1757  120645.171875\n",
      " 1758  140554.265625\n",
      " 1759  187107.468750\n",
      " 1760  144563.187500\n",
      " 1761  145713.015625\n",
      " 1762  150298.125000\n",
      " 1763  216822.750000\n",
      " 1764  115846.726562\n",
      " 1765  178274.375000\n",
      " 1766  164110.968750\n",
      " 1767  211539.312500\n",
      " 1768  136456.125000\n",
      " 1769  152630.687500\n",
      " 1770  129744.062500\n",
      " 1771  136926.046875\n",
      " 1772  137070.968750\n",
      " 1773  141217.718750\n",
      " 1774  136199.593750\n",
      " 1775  133196.265625\n",
      " 1776  126988.507812\n",
      " 1777  107397.914062\n",
      " 1778  118057.171875\n",
      " 1779  113820.828125\n",
      " 1780  167517.140625\n",
      " 1781  134184.593750\n",
      " 1782  106807.062500\n",
      " 1783  142661.406250\n",
      " 1784  120005.460938\n",
      " 1785  120477.617188\n",
      " 1786  143067.921875\n",
      " 1787  147450.765625\n",
      " 1788   70187.320312\n",
      " 1789   77939.531250\n",
      " 1790   87365.445312\n",
      " 1791  195727.765625\n",
      " 1792  146331.343750\n",
      " 1793  141475.531250\n",
      " 1794  117495.671875\n",
      " 1795  142177.437500\n",
      " 1796  129564.796875\n",
      " 1797  114440.945312\n",
      " 1798  130956.109375\n",
      " 1799  102597.140625\n",
      " 1800  146297.875000\n",
      " 1801  131125.843750\n",
      " 1802  136940.093750\n",
      " 1803  167196.046875\n",
      " 1804  137941.781250\n",
      " 1805  134482.109375\n",
      " 1806  127594.757812\n",
      " 1807  131786.187500\n",
      " 1808  149510.046875\n",
      " 1809  139260.921875\n",
      " 1810  142523.578125\n",
      " 1811  143779.875000\n",
      " 1812  105671.515625\n",
      " 1813  116901.921875\n",
      " 1814  102524.398438\n",
      " 1815   62073.070312\n",
      " 1816  105085.679688\n",
      " 1817  142525.484375\n",
      " 1818  137448.640625\n",
      " 1819  110291.382812\n",
      " 1820   94990.406250\n",
      " 1821  126920.171875\n",
      " 1822  140494.406250\n",
      " 1823   74999.882812\n",
      " 1824  142539.250000\n",
      " 1825  133135.437500\n",
      " 1826  114207.867188\n",
      " 1827  108073.195312\n",
      " 1828  137023.609375\n",
      " 1829  115370.007812\n",
      " 1830  155062.718750\n",
      " 1831  190113.625000\n",
      " 1832  129589.562500\n",
      " 1833  165643.140625\n",
      " 1834  127820.328125\n",
      " 1835   95993.000000\n",
      " 1836  136438.984375\n",
      " 1837  109078.875000\n",
      " 1838  138085.781250\n",
      " 1839   75646.656250\n",
      " 1840  168418.578125\n",
      " 1841  151433.562500\n",
      " 1842  106623.882812\n",
      " 1843  140907.468750\n",
      " 1844  133224.437500\n",
      " 1845  146086.265625\n",
      " 1846  179644.468750\n",
      " 1847  285878.750000\n",
      " 1848   63328.316406\n",
      " 1849  174253.375000\n",
      " 1850  124426.257812\n",
      " 1851  147543.281250\n",
      " 1852  127950.242188\n",
      " 1853  128715.265625\n",
      " 1854  176667.281250\n",
      " 1855  197416.484375\n",
      " 1856  230849.015625\n",
      " 1857  184805.984375\n",
      " 1858  152290.062500\n",
      " 1859  120941.500000\n",
      " 1860  149872.765625\n",
      " 1861  120941.500000\n",
      " 1862  267177.968750\n",
      " 1863  246397.671875\n",
      " 1864  246397.671875\n",
      " 1865  357381.781250\n",
      " 1866  279531.687500\n",
      " 1867  249058.000000\n",
      " 1868  301200.500000\n",
      " 1869  204652.515625\n",
      " 1870  222878.234375\n",
      " 1871  218652.531250\n",
      " 1872  181600.984375\n",
      " 1873  204577.500000\n",
      " 1874  136566.828125\n",
      " 1875  221086.671875\n",
      " 1876  195544.531250\n",
      " 1877  206113.781250\n",
      " 1878  218441.140625\n",
      " 1879  137478.000000\n",
      " 1880  130540.625000\n",
      " 1881  237964.593750\n",
      " 1882  262249.687500\n",
      " 1883  193052.203125\n",
      " 1884  202752.375000\n",
      " 1885  241380.875000\n",
      " 1886  287984.031250\n",
      " 1887  194162.687500\n",
      " 1888  248979.031250\n",
      " 1889  189345.843750\n",
      " 1890  139928.937500\n",
      " 1891  144715.453125\n",
      " 1892  117857.882812\n",
      " 1893  140961.046875\n",
      " 1894  130554.492188\n",
      " 1895  187606.421875\n",
      " 1896  127531.382812\n",
      " 1897  128713.992188\n",
      " 1898  113762.000000\n",
      " 1899  124825.468750\n",
      " 1900  127791.726562\n",
      " 1901  135769.468750\n",
      " 1902  172875.015625\n",
      " 1903  151912.937500\n",
      " 1904  124869.656250\n",
      " 1905  191047.781250\n",
      " 1906  155550.531250\n",
      " 1907  278635.531250\n",
      " 1908  113382.304688\n",
      " 1909  115362.632812\n",
      " 1910  115362.632812\n",
      " 1911  197149.546875\n",
      " 1912  257303.687500\n",
      " 1913  113934.210938\n",
      " 1914   70490.093750\n",
      " 1915  252420.984375\n",
      " 1916   74872.429688\n",
      " 1917  259304.109375\n",
      " 1918  135239.515625\n",
      " 1919  161347.765625\n",
      " 1920  234652.437500\n",
      " 1921  388180.812500\n",
      " 1922  265703.250000\n",
      " 1923  232481.156250\n",
      " 1924  219370.218750\n",
      " 1925  236891.562500\n",
      " 1926  394102.156250\n",
      " 1927  139616.921875\n",
      " 1928  163521.453125\n",
      " 1929  121979.570312\n",
      " 1930  165809.468750\n",
      " 1931  162479.781250\n",
      " 1932  175108.859375\n",
      " 1933  151561.000000\n",
      " 1934  195556.593750\n",
      " 1935  179211.312500\n",
      " 1936  198135.046875\n",
      " 1937  208470.562500\n",
      " 1938  203297.609375\n",
      " 1939  268907.125000\n",
      " 1940  182088.656250\n",
      " 1941  202004.765625\n",
      " 1942  197764.703125\n",
      " 1943  190923.421875\n",
      " 1944  314814.593750\n",
      " 1945  350275.812500\n",
      " 1946  179945.343750\n",
      " 1947  347334.906250\n",
      " 1948  190141.453125\n",
      " 1949  277884.562500\n",
      " 1950  168112.750000\n",
      " 1951  230874.265625\n",
      " 1952  191037.875000\n",
      " 1953  161767.750000\n",
      " 1954  226554.687500\n",
      " 1955  153565.421875\n",
      " 1956  233520.093750\n",
      " 1957  181379.156250\n",
      " 1958  264284.343750\n",
      " 1959  141161.359375\n",
      " 1960  120090.601562\n",
      " 1961  122738.296875\n",
      " 1962   98814.546875\n",
      " 1963   98059.078125\n",
      " 1964  107730.523438\n",
      " 1965  144913.031250\n",
      " 1966  129174.984375\n",
      " 1967  257178.890625\n",
      " 1968  561360.812500\n",
      " 1969  417572.187500\n",
      " 1970  491761.281250\n",
      " 1971  409365.156250\n",
      " 1972  329002.531250\n",
      " 1973  240068.437500\n",
      " 1974  313224.718750\n",
      " 1975  506402.593750\n",
      " 1976  245738.062500\n",
      " 1977  352395.406250\n",
      " 1978  535993.250000\n",
      " 1979  397456.531250\n",
      " 1980  190849.328125\n",
      " 1981  298160.843750\n",
      " 1982  216145.109375\n",
      " 1983  216145.109375\n",
      " 1984  168990.093750\n",
      " 1985  210042.656250\n",
      " 1986  236813.015625\n",
      " 1987  171388.609375\n",
      " 1988  198802.281250\n",
      " 1989  203940.906250\n",
      " 1990  214927.078125\n",
      " 1991  253164.843750\n",
      " 1992  209700.562500\n",
      " 1993  179913.328125\n",
      " 1994  237683.750000\n",
      " 1995  207987.609375\n",
      " 1996  188440.046875\n",
      " 1997  364765.906250\n",
      " 1998  302282.656250\n",
      " 1999  246596.750000\n",
      " 2000  287891.843750\n",
      " 2001  232186.953125\n",
      " 2002  241082.546875\n",
      " 2003  308504.406250\n",
      " 2004  242437.656250\n",
      " 2005  222619.375000\n",
      " 2006  216028.125000\n",
      " 2007  254714.593750\n",
      " 2008  208115.546875\n",
      " 2009  200223.906250\n",
      " 2010  200835.187500\n",
      " 2011  173087.953125\n",
      " 2012  174987.390625\n",
      " 2013  180470.843750\n",
      " 2014  183599.984375\n",
      " 2015  194437.156250\n",
      " 2016  192914.031250\n",
      " 2017  196336.015625\n",
      " 2018  126465.289062\n",
      " 2019  118740.914062\n",
      " 2020  107709.914062\n",
      " 2021  116756.585938\n",
      " 2022  176700.421875\n",
      " 2023  143629.984375\n",
      " 2024  290903.562500\n",
      " 2025  291433.500000\n",
      " 2026  183754.765625\n",
      " 2027  154798.796875\n",
      " 2028  151775.375000\n",
      " 2029  164902.921875\n",
      " 2030  262762.781250\n",
      " 2031  191905.359375\n",
      " 2032  211527.312500\n",
      " 2033  230232.296875\n",
      " 2034  141459.968750\n",
      " 2035  210206.062500\n",
      " 2036  153565.609375\n",
      " 2037  153565.609375\n",
      " 2038  268730.312500\n",
      " 2039  217118.671875\n",
      " 2040  249900.265625\n",
      " 2041  190526.375000\n",
      " 2042  198953.859375\n",
      " 2043  177690.843750\n",
      " 2044  174968.890625\n",
      " 2045  196361.312500\n",
      " 2046  122982.679688\n",
      " 2047  150894.031250\n",
      " 2048  125312.664062\n",
      " 2049  129351.054688\n",
      " 2050  167105.078125\n",
      " 2051  114098.625000\n",
      " 2052  136866.078125\n",
      " 2053  143157.343750\n",
      " 2054  103697.984375\n",
      " 2055  158138.593750\n",
      " 2056  142784.953125\n",
      " 2057  125644.109375\n",
      " 2058  190873.328125\n",
      " 2059  138756.781250\n",
      " 2060  165371.328125\n",
      " 2061  189327.062500\n",
      " 2062  136693.093750\n",
      " 2063  115057.257812\n",
      " 2064  142616.656250\n",
      " 2065  103615.437500\n",
      " 2066  188865.125000\n",
      " 2067  163428.156250\n",
      " 2068  155736.578125\n",
      " 2069   74852.828125\n",
      " 2070  128460.000000\n",
      " 2071   95599.687500\n",
      " 2072  149205.015625\n",
      " 2073  135489.140625\n",
      " 2074  148347.843750\n",
      " 2075  131579.390625\n",
      " 2076  112154.375000\n",
      " 2077  141195.250000\n",
      " 2078  132271.437500\n",
      " 2079  127668.398438\n",
      " 2080  127664.125000\n",
      " 2081  129405.335938\n",
      " 2082  125576.890625\n",
      " 2083  136769.531250\n",
      " 2084  111353.617188\n",
      " 2085  134924.656250\n",
      " 2086  200172.875000\n",
      " 2087  135149.046875\n",
      " 2088   77305.648438\n",
      " 2089   92986.320312\n",
      " 2090  129556.312500\n",
      " 2091  143444.906250\n",
      " 2092  136787.156250\n",
      " 2093  113200.796875\n",
      " 2094   92224.562500\n",
      " 2095  136366.671875\n",
      " 2096   87498.179688\n",
      " 2097   96402.718750\n",
      " 2098  131977.828125\n",
      " 2099   65573.093750\n",
      " 2100  185067.968750\n",
      " 2101  118227.640625\n",
      " 2102  137312.843750\n",
      " 2103  104230.773438\n",
      " 2104  153969.578125\n",
      " 2105  123273.921875\n",
      " 2106  100996.289062\n",
      " 2107  147106.921875\n",
      " 2108  121074.820312\n",
      " 2109  123091.101562\n",
      " 2110  125946.703125\n",
      " 2111  147993.187500\n",
      " 2112  148710.000000\n",
      " 2113  118949.585938\n",
      " 2114  128546.148438\n",
      " 2115  126447.007812\n",
      " 2116  106538.398438\n",
      " 2117  123951.554688\n",
      " 2118  117431.742188\n",
      " 2119  127982.085938\n",
      " 2120   84856.179688\n",
      " 2121  107643.539062\n",
      " 2122  104293.632812\n",
      " 2123   72772.226562\n",
      " 2124  140914.156250\n",
      " 2125  191757.921875\n",
      " 2126  142819.609375\n",
      " 2127  147774.828125\n",
      " 2128  119704.898438\n",
      " 2129  100463.875000\n",
      " 2130  145276.656250\n",
      " 2131  142298.312500\n",
      " 2132  124064.117188\n",
      " 2133  110098.203125\n",
      " 2134  126108.171875\n",
      " 2135   94285.992188\n",
      " 2136  118517.507812\n",
      " 2137  117735.046875\n",
      " 2138  148922.187500\n",
      " 2139  169678.187500\n",
      " 2140  128705.718750\n",
      " 2141  133600.953125\n",
      " 2142  135277.750000\n",
      " 2143  155001.218750\n",
      " 2144  112996.148438\n",
      " 2145  124329.296875\n",
      " 2146  171625.984375\n",
      " 2147  149887.468750\n",
      " 2148  119198.937500\n",
      " 2149  138407.421875\n",
      " 2150  200808.375000\n",
      " 2151   91006.585938\n",
      " 2152  211804.031250\n",
      " 2153  152009.890625\n",
      " 2154   97201.429688\n",
      " 2155  122253.875000\n",
      " 2156  253625.750000\n",
      " 2157  220180.968750\n",
      " 2158  233095.437500\n",
      " 2159  196294.093750\n",
      " 2160  187077.343750\n",
      " 2161  246367.343750\n",
      " 2162  393327.718750\n",
      " 2163  342806.406250\n",
      " 2164  231423.859375\n",
      " 2165  207352.953125\n",
      " 2166  136816.218750\n",
      " 2167  200053.296875\n",
      " 2168  202619.718750\n",
      " 2169  187006.031250\n",
      " 2170  213308.968750\n",
      " 2171  161654.875000\n",
      " 2172  140744.984375\n",
      " 2173  216521.046875\n",
      " 2174  267066.906250\n",
      " 2175  292041.718750\n",
      " 2176  309529.937500\n",
      " 2177  265703.031250\n",
      " 2178  210652.218750\n",
      " 2179  145482.406250\n",
      " 2180  261836.250000\n",
      " 2181  205902.437500\n",
      " 2182  245444.953125\n",
      " 2183  208632.843750\n",
      " 2184  140726.718750\n",
      " 2185  166937.453125\n",
      " 2186  137891.468750\n",
      " 2187  156481.312500\n",
      " 2188  153879.453125\n",
      " 2189  218704.828125\n",
      " 2190  103186.726562\n",
      " 2191   93308.523438\n",
      " 2192   84940.812500\n",
      " 2193  145219.859375\n",
      " 2194  132454.984375\n",
      " 2195  115846.726562\n",
      " 2196  129314.148438\n",
      " 2197  136282.625000\n",
      " 2198  152533.296875\n",
      " 2199  150224.203125\n",
      " 2200  124298.539062\n",
      " 2201  144316.390625\n",
      " 2202  152876.343750\n",
      " 2203  157395.703125\n",
      " 2204  188868.359375\n",
      " 2205  150329.187500\n",
      " 2206  121881.828125\n",
      " 2207  178087.265625\n",
      " 2208  163502.671875\n",
      " 2209  244504.156250\n",
      " 2210  113382.304688\n",
      " 2211  107281.460938\n",
      " 2212  118295.406250\n",
      " 2213  124114.468750\n",
      " 2214  134152.578125\n",
      " 2215  107262.203125\n",
      " 2216  145476.937500\n",
      " 2217   89582.632812\n",
      " 2218   90482.804688\n",
      " 2219   83365.843750\n",
      " 2220  112704.007812\n",
      " 2221  252420.984375\n",
      " 2222  262106.796875\n",
      " 2223  342765.343750\n",
      " 2224  201992.703125\n",
      " 2225  150076.281250\n",
      " 2226  228990.656250\n",
      " 2227  208734.484375\n",
      " 2228  249025.312500\n",
      " 2229  231083.703125\n",
      " 2230  159061.953125\n",
      " 2231  224730.328125\n",
      " 2232  213175.734375\n",
      " 2233  171271.828125\n",
      " 2234  215783.062500\n",
      " 2235  228306.578125\n",
      " 2236  295373.937500\n",
      " 2237  350089.531250\n",
      " 2238  190557.156250\n",
      " 2239  174988.890625\n",
      " 2240  167763.578125\n",
      " 2241  177340.406250\n",
      " 2242  129680.312500\n",
      " 2243  137430.656250\n",
      " 2244   91876.898438\n",
      " 2245   91959.164062\n",
      " 2246  157544.546875\n",
      " 2247   84676.132812\n",
      " 2248  125969.796875\n",
      " 2249  128493.750000\n",
      " 2250  132535.234375\n",
      " 2251  183025.406250\n",
      " 2252  167248.078125\n",
      " 2253  160847.750000\n",
      " 2254  168230.859375\n",
      " 2255  195556.593750\n",
      " 2256  174447.140625\n",
      " 2257  200100.843750\n",
      " 2258  173556.312500\n",
      " 2259  193623.890625\n",
      " 2260  148176.703125\n",
      " 2261  171902.906250\n",
      " 2262  202003.265625\n",
      " 2263  322004.000000\n",
      " 2264  338602.218750\n",
      " 2265  214664.453125\n",
      " 2266  242484.281250\n",
      " 2267  486388.312500\n",
      " 2268  360222.218750\n",
      " 2269  167984.921875\n",
      " 2270  165664.015625\n",
      " 2271  186092.578125\n",
      " 2272  174426.031250\n",
      " 2273  159336.828125\n",
      " 2274  167393.296875\n",
      " 2275  158122.984375\n",
      " 2276  152823.375000\n",
      " 2277  180565.062500\n",
      " 2278  149119.921875\n",
      " 2279  124638.968750\n",
      " 2280  111224.617188\n",
      " 2281  190428.546875\n",
      " 2282  202668.062500\n",
      " 2283   94905.804688\n",
      " 2284  118656.476562\n",
      " 2285  130508.703125\n",
      " 2286  126294.156250\n",
      " 2287  302822.593750\n",
      " 2288  276488.437500\n",
      " 2289  432820.312500\n",
      " 2290  414306.906250\n",
      " 2291  318195.093750\n",
      " 2292  409603.156250\n",
      " 2293  494327.750000\n",
      " 2294  512069.625000\n",
      " 2295  477077.062500\n",
      " 2296  362117.062500\n",
      " 2297  238738.812500\n",
      " 2298  313957.406250\n",
      " 2299  498301.218750\n",
      " 2300  273844.562500\n",
      " 2301  227167.765625\n",
      " 2302  230468.875000\n",
      " 2303  267745.625000\n",
      " 2304  323470.375000\n",
      " 2305  188759.609375\n",
      " 2306  188759.609375\n",
      " 2307  199819.343750\n",
      " 2308  227154.625000\n",
      " 2309  246786.484375\n",
      " 2310  216145.109375\n",
      " 2311  192066.437500\n",
      " 2312  219128.515625\n",
      " 2313  194319.921875\n",
      " 2314  183280.328125\n",
      " 2315  176149.953125\n",
      " 2316  185970.875000\n",
      " 2317  193638.359375\n",
      " 2318  193493.609375\n",
      " 2319  187458.984375\n",
      " 2320  192080.125000\n",
      " 2321  231073.437500\n",
      " 2322  171388.609375\n",
      " 2323  184379.328125\n",
      " 2324  153674.406250\n",
      " 2325  231405.625000\n",
      " 2326  161667.203125\n",
      " 2327  211206.515625\n",
      " 2328  214571.140625\n",
      " 2329  197682.890625\n",
      " 2330  197620.406250\n",
      " 2331  381427.812500\n",
      " 2332  330697.406250\n",
      " 2333  293640.687500\n",
      " 2334  266794.437500\n",
      " 2335  231656.828125\n",
      " 2336  292909.906250\n",
      " 2337  210723.906250\n",
      " 2338  242366.953125\n",
      " 2339  234016.890625\n",
      " 2340  385897.218750\n",
      " 2341  235187.625000\n",
      " 2342  217841.625000\n",
      " 2343  209999.343750\n",
      " 2344  214235.546875\n",
      " 2345  300446.312500\n",
      " 2346  207890.703125\n",
      " 2347  192184.406250\n",
      " 2348  218687.656250\n",
      " 2349  190226.593750\n",
      " 2350  239318.890625\n",
      " 2351  260041.062500\n",
      " 2352  287887.625000\n",
      " 2353  309594.625000\n",
      " 2354  162319.515625\n",
      " 2355  167039.734375\n",
      " 2356  156964.062500\n",
      " 2357  223635.062500\n",
      " 2358  197877.453125\n",
      " 2359  123425.882812\n",
      " 2360  123658.242188\n",
      " 2361  131767.218750\n",
      " 2362  287834.281250\n",
      " 2363  129513.898438\n",
      " 2364  134522.593750\n",
      " 2365  192936.281250\n",
      " 2366  171175.187500\n",
      " 2367  230072.515625\n",
      " 2368  189513.515625\n",
      " 2369  235542.296875\n",
      " 2370  164902.921875\n",
      " 2371  164873.937500\n",
      " 2372  193969.890625\n",
      " 2373  233559.140625\n",
      " 2374  242152.671875\n",
      " 2375  239284.671875\n",
      " 2376  243999.093750\n",
      " 2377  316811.218750\n",
      " 2378  147125.765625\n",
      " 2379  204889.656250\n",
      " 2380  145571.296875\n",
      " 2381  135813.125000\n",
      " 2382  182882.015625\n",
      " 2383  231649.375000\n",
      " 2384  232744.921875\n",
      " 2385  145786.546875\n",
      " 2386  136297.984375\n",
      " 2387  134176.234375\n",
      " 2388   99487.500000\n",
      " 2389  134037.046875\n",
      " 2390  161915.687500\n",
      " 2391  128537.984375\n",
      " 2392  125777.593750\n",
      " 2393  146944.421875\n",
      " 2394  146710.828125\n",
      " 2395  157351.015625\n",
      " 2396  145805.953125\n",
      " 2397  183716.531250\n",
      " 2398  142382.015625\n",
      " 2399   57900.371094\n",
      " 2400   60492.863281\n",
      " 2401  111420.601562\n",
      " 2402  139406.843750\n",
      " 2403  137425.218750\n",
      " 2404  136440.906250\n",
      " 2405  157268.234375\n",
      " 2406  119315.679688\n",
      " 2407  123945.617188\n",
      " 2408  128798.023438\n",
      " 2409  140002.156250\n",
      " 2410  158496.625000\n",
      " 2411  119480.585938\n",
      " 2412  151960.265625\n",
      " 2413  142465.000000\n",
      " 2414  132857.671875\n",
      " 2415  130080.109375\n",
      " 2416  117749.140625\n",
      " 2417  125247.851562\n",
      " 2418  122188.539062\n",
      " 2419  138182.031250\n",
      " 2420  124100.765625\n",
      " 2421  159618.843750\n",
      " 2422  120749.421875\n",
      " 2423  163029.343750\n",
      " 2424  156422.203125\n",
      " 2425  248519.171875\n",
      " 2426  123100.664062\n",
      " 2427  133361.234375\n",
      " 2428  150698.265625\n",
      " 2429  118834.726562\n",
      " 2430  127357.132812\n",
      " 2431  131929.687500\n",
      " 2432  130031.101562\n",
      " 2433  139221.375000\n",
      " 2434  139127.359375\n",
      " 2435  144988.734375\n",
      " 2436  109244.101562\n",
      " 2437  116207.304688\n",
      " 2438  131277.609375\n",
      " 2439  107858.882812\n",
      " 2440  125491.328125\n",
      " 2441   89917.390625\n",
      " 2442   99113.945312\n",
      " 2443  115023.093750\n",
      " 2444   99109.820312\n",
      " 2445  104621.890625\n",
      " 2446  134467.312500\n",
      " 2447  141833.328125\n",
      " 2448  162935.265625\n",
      " 2449  115352.539062\n",
      " 2450  138548.640625\n",
      " 2451  127482.843750\n",
      " 2452  213523.578125\n",
      " 2453  114761.976562\n",
      " 2454  147581.062500\n",
      " 2455   84371.984375\n",
      " 2456  136264.281250\n",
      " 2457  121459.015625\n",
      " 2458  105518.812500\n",
      " 2459  121816.601562\n",
      " 2460  132024.000000\n",
      " 2461  132659.703125\n",
      " 2462  135161.046875\n",
      " 2463  123098.992188\n",
      " 2464  162204.562500\n",
      " 2465  122761.398438\n",
      " 2466  143048.218750\n",
      " 2467   99167.843750\n",
      " 2468  114069.875000\n",
      " 2469   94456.335938\n",
      " 2470  189772.359375\n",
      " 2471  151856.468750\n",
      " 2472  144279.781250\n",
      " 2473  119704.007812\n",
      " 2474  130746.328125\n",
      " 2475  244472.921875\n",
      " 2476   95511.390625\n",
      " 2477  148800.953125\n",
      " 2478  185332.156250\n",
      " 2479  130091.000000\n",
      " 2480  159105.281250\n",
      " 2481  137461.765625\n",
      " 2482  117084.000000\n",
      " 2483  120434.335938\n",
      " 2484  123415.531250\n",
      " 2485  126495.640625\n",
      " 2486  164832.781250\n",
      " 2487  258420.203125\n",
      " 2488  117352.843750\n",
      " 2489  142409.218750\n",
      " 2490  156319.453125\n",
      " 2491   92287.437500\n",
      " 2492  189785.875000\n",
      " 2493  152934.796875\n",
      " 2494  203806.296875\n",
      " 2495  150600.578125\n",
      " 2496  276399.250000\n",
      " 2497  140125.390625\n",
      " 2498  110624.007812\n",
      " 2499  100325.750000\n",
      " 2500  128538.484375\n",
      " 2501  135438.390625\n",
      " 2502  134515.078125\n",
      " 2503  127204.757812\n",
      " 2504  173457.406250\n",
      " 2505  230142.140625\n",
      " 2506  257702.125000\n",
      " 2507  353479.687500\n",
      " 2508  249565.234375\n",
      " 2509  229846.171875\n",
      " 2510  222084.250000\n",
      " 2511  189681.140625\n",
      " 2512  216752.390625\n",
      " 2513  188879.843750\n",
      " 2514  252473.312500\n",
      " 2515  166852.703125\n",
      " 2516  181642.140625\n",
      " 2517  142876.968750\n",
      " 2518  167065.359375\n",
      " 2519  198208.343750\n",
      " 2520  199679.640625\n",
      " 2521  199128.484375\n",
      " 2522  196754.140625\n",
      " 2523  129661.757812\n",
      " 2524  140400.562500\n",
      " 2525  142451.437500\n",
      " 2526  129693.914062\n",
      " 2527  134058.937500\n",
      " 2528  126439.281250\n",
      " 2529  122065.421875\n",
      " 2530  121806.015625\n",
      " 2531  226441.312500\n",
      " 2532  208147.843750\n",
      " 2533  195469.031250\n",
      " 2534  230882.687500\n",
      " 2535  336835.093750\n",
      " 2536  253044.187500\n",
      " 2537  221404.125000\n",
      " 2538  186871.812500\n",
      " 2539  176252.171875\n",
      " 2540  193708.609375\n",
      " 2541  179054.421875\n",
      " 2542  185458.781250\n",
      " 2543  132692.125000\n",
      " 2544  124820.257812\n",
      " 2545  158687.078125\n",
      " 2546  142453.609375\n",
      " 2547  138645.625000\n",
      " 2548  163602.546875\n",
      " 2549  168218.390625\n",
      " 2550  281849.000000\n",
      " 2551  147077.843750\n",
      " 2552  119134.429688\n",
      " 2553  119172.007812\n",
      " 2554  118109.960938\n",
      " 2555  107709.890625\n",
      " 2556  112346.875000\n",
      " 2557  119077.953125\n",
      " 2558  196979.250000\n",
      " 2559  139425.250000\n",
      " 2560  117854.312500\n",
      " 2561  110910.164062\n",
      " 2562  129701.406250\n",
      " 2563  139650.531250\n",
      " 2564  148704.718750\n",
      " 2565  160876.109375\n",
      " 2566  161668.484375\n",
      " 2567  121895.734375\n",
      " 2568  194553.000000\n",
      " 2569  182757.000000\n",
      " 2570  113382.304688\n",
      " 2571  240936.375000\n",
      " 2572  158908.718750\n",
      " 2573  187372.109375\n",
      " 2574  355004.000000\n",
      " 2575  117833.812500\n",
      " 2576  137311.484375\n",
      " 2577  153600.437500\n",
      " 2578  103250.757812\n",
      " 2579  142957.218750\n",
      " 2580  111561.117188\n",
      " 2581  126487.492188\n",
      " 2582  108113.468750\n",
      " 2583  270948.937500\n",
      " 2584  182530.171875\n",
      " 2585  192474.468750\n",
      " 2586  219201.921875\n",
      " 2587  209189.968750\n",
      " 2588  140595.906250\n",
      " 2589  146264.671875\n",
      " 2590  212669.375000\n",
      " 2591  248161.609375\n",
      " 2592  247827.125000\n",
      " 2593  256968.109375\n",
      " 2594  169585.906250\n",
      " 2595  197495.875000\n",
      " 2596  338644.968750\n",
      " 2597  217110.218750\n",
      " 2598  286677.343750\n",
      " 2599  323217.375000\n",
      " 2600  339282.093750\n",
      " 2601  168612.734375\n",
      " 2602   85261.484375\n",
      " 2603   96156.445312\n",
      " 2604   84676.132812\n",
      " 2605   95610.500000\n",
      " 2606  143649.187500\n",
      " 2607  183139.859375\n",
      " 2608  212459.140625\n",
      " 2609  143839.750000\n",
      " 2610  115375.968750\n",
      " 2611  186460.609375\n",
      " 2612  153026.296875\n",
      " 2613  130852.789062\n",
      " 2614  127013.375000\n",
      " 2615  146706.906250\n",
      " 2616  132173.515625\n",
      " 2617  168676.734375\n",
      " 2618  210051.500000\n",
      " 2619  191743.125000\n",
      " 2620  187130.875000\n",
      " 2621  194749.250000\n",
      " 2622  200972.375000\n",
      " 2623  239140.859375\n",
      " 2624  386810.718750\n",
      " 2625  479124.687500\n",
      " 2626  172109.296875\n",
      " 2627  168009.359375\n",
      " 2628  326541.187500\n",
      " 2629  407901.281250\n",
      " 2630  276451.562500\n",
      " 2631  506839.937500\n",
      " 2632  351844.156250\n",
      " 2633  286428.500000\n",
      " 2634  379926.031250\n",
      " 2635  154736.484375\n",
      " 2636  176998.218750\n",
      " 2637  145120.750000\n",
      " 2638  231400.984375\n",
      " 2639  157513.984375\n",
      " 2640  147362.484375\n",
      " 2641  120465.812500\n",
      " 2642  220061.046875\n",
      " 2643   99660.671875\n",
      " 2644  127224.734375\n",
      " 2645   94905.804688\n",
      " 2646   98814.546875\n",
      " 2647   95661.273438\n",
      " 2648  128292.593750\n",
      " 2649  139846.125000\n",
      " 2650  129174.984375\n",
      " 2651  140735.203125\n",
      " 2652  506098.906250\n",
      " 2653  254750.234375\n",
      " 2654  332879.000000\n",
      " 2655  333433.687500\n",
      " 2656  288145.468750\n",
      " 2657  318366.687500\n",
      " 2658  284177.281250\n",
      " 2659  290950.000000\n",
      " 2660  390566.781250\n",
      " 2661  290166.968750\n",
      " 2662  271239.593750\n",
      " 2663  370815.093750\n",
      " 2664  243587.000000\n",
      " 2665  286957.187500\n",
      " 2666  275302.968750\n",
      " 2667  184493.812500\n",
      " 2668  184295.890625\n",
      " 2669  196913.109375\n",
      " 2670  283322.593750\n",
      " 2671  176504.234375\n",
      " 2672  184843.812500\n",
      " 2673  213871.312500\n",
      " 2674  213259.890625\n",
      " 2675  158716.265625\n",
      " 2676  189714.671875\n",
      " 2677  209700.562500\n",
      " 2678  246527.921875\n",
      " 2679  242095.890625\n",
      " 2680  279325.656250\n",
      " 2681  303893.906250\n",
      " 2682  324866.843750\n",
      " 2683  519855.281250\n",
      " 2684  283332.593750\n",
      " 2685  327824.218750\n",
      " 2686  283728.187500\n",
      " 2687  270704.906250\n",
      " 2688  226116.453125\n",
      " 2689  197739.421875\n",
      " 2690  429720.156250\n",
      " 2691  197987.296875\n",
      " 2692  170095.265625\n",
      " 2693  194368.343750\n",
      " 2694  166189.843750\n",
      " 2695  197499.046875\n",
      " 2696  201674.718750\n",
      " 2697  195556.593750\n",
      " 2698  192948.093750\n",
      " 2699  190189.703125\n",
      " 2700  171965.421875\n",
      " 2701  175216.578125\n",
      " 2702  129426.929688\n",
      " 2703  137428.796875\n",
      " 2704  142057.218750\n",
      " 2705  130030.296875\n",
      " 2706  124681.921875\n",
      " 2707  120703.289062\n",
      " 2708  141446.343750\n",
      " 2709  118656.828125\n",
      " 2710  128586.679688\n",
      " 2711  307233.187500\n",
      " 2712  289856.500000\n",
      " 2713  167383.500000\n",
      " 2714  149689.500000\n",
      " 2715  171758.156250\n",
      " 2716  155468.625000\n",
      " 2717  214802.296875\n",
      " 2718  221748.734375\n",
      " 2719  168472.281250\n",
      " 2720  152286.562500\n",
      " 2721  138814.984375\n",
      " 2722  159270.109375\n",
      " 2723  133350.250000\n",
      " 2724  135438.359375\n",
      " 2725  135277.750000\n",
      " 2726  152197.890625\n",
      " 2727  171582.406250\n",
      " 2728  165411.328125\n",
      " 2729  154469.968750\n",
      " 2730  148069.500000\n",
      " 2731   99706.140625\n",
      " 2732  117251.062500\n",
      " 2733  158532.859375\n",
      " 2734  182297.468750\n",
      " 2735  140226.187500\n",
      " 2736  164710.250000\n",
      " 2737  116686.343750\n",
      " 2738  134421.968750\n",
      " 2739  167617.390625\n",
      " 2740  134058.203125\n",
      " 2741  137584.250000\n",
      " 2742  142762.093750\n",
      " 2743  144507.000000\n",
      " 2744  135990.125000\n",
      " 2745  126968.523438\n",
      " 2746  125428.890625\n",
      " 2747  174604.828125\n",
      " 2748  140740.828125\n",
      " 2749  121913.507812\n",
      " 2750  140510.984375\n",
      " 2751  121754.335938\n",
      " 2752  249082.671875\n",
      " 2753  159062.359375\n",
      " 2754  209474.406250\n",
      " 2755  132857.484375\n",
      " 2756   93456.296875\n",
      " 2757   81966.703125\n",
      " 2758   85193.570312\n",
      " 2759  142033.703125\n",
      " 2760  140305.734375\n",
      " 2761  149151.171875\n",
      " 2762  145265.500000\n",
      " 2763  156897.531250\n",
      " 2764  139801.109375\n",
      " 2765  331484.468750\n",
      " 2766  142037.671875\n",
      " 2767   87374.570312\n",
      " 2768  134064.109375\n",
      " 2769  134107.000000\n",
      " 2770  131590.640625\n",
      " 2771  117493.046875\n",
      " 2772  134722.953125\n",
      " 2773  136741.093750\n",
      " 2774  141994.453125\n",
      " 2775  125817.343750\n",
      " 2776  125319.632812\n",
      " 2777  129765.289062\n",
      " 2778   82910.257812\n",
      " 2779  128451.109375\n",
      " 2780   88417.515625\n",
      " 2781  103439.609375\n",
      " 2782  110529.960938\n",
      " 2783  123355.812500\n",
      " 2784  119105.164062\n",
      " 2785  124274.351562\n",
      " 2786   94524.992188\n",
      " 2787  130860.585938\n",
      " 2788  104696.000000\n",
      " 2789  149011.078125\n",
      " 2790   56372.351562\n",
      " 2791  124427.312500\n",
      " 2792   86662.289062\n",
      " 2793  158829.875000\n",
      " 2794  121459.015625\n",
      " 2795  122958.687500\n",
      " 2796  113537.468750\n",
      " 2797  241994.625000\n",
      " 2798  134207.625000\n",
      " 2799  131314.921875\n",
      " 2800   65866.312500\n",
      " 2801  115483.210938\n",
      " 2802  151379.406250\n",
      " 2803  154027.640625\n",
      " 2804  139066.375000\n",
      " 2805   85971.460938\n",
      " 2806  104420.546875\n",
      " 2807  174294.046875\n",
      " 2808  142245.234375\n",
      " 2809  135751.343750\n",
      " 2810  134447.968750\n",
      " 2811  159469.390625\n",
      " 2812  146003.343750\n",
      " 2813  165180.203125\n",
      " 2814  160076.390625\n",
      " 2815   97917.796875\n",
      " 2816  241628.375000\n",
      " 2817  138651.406250\n",
      " 2818  127017.812500\n",
      " 2819  127751.570312\n",
      " 2820  143105.671875\n",
      " 2821  106155.203125\n",
      " 2822  239373.250000\n",
      " 2823  289409.593750\n",
      " 2824  194068.046875\n",
      " 2825  130295.992188\n",
      " 2826  131628.421875\n",
      " 2827  143287.734375\n",
      " 2828  296592.593750\n",
      " 2829  195606.218750\n",
      " 2830  322991.031250\n",
      " 2831  185187.687500\n",
      " 2832  325936.750000\n",
      " 2833  257413.312500\n",
      " 2834  220047.562500\n",
      " 2835  230269.562500\n",
      " 2836  205198.328125\n",
      " 2837  150087.750000\n",
      " 2838  155738.328125\n",
      " 2839  194367.265625\n",
      " 2840  200053.296875\n",
      " 2841  199682.890625\n",
      " 2842  204514.984375\n",
      " 2843  133007.281250\n",
      " 2844  157339.375000\n",
      " 2845  122065.421875\n",
      " 2846  202421.421875\n",
      " 2847  194826.031250\n",
      " 2848  225313.500000\n",
      " 2849  215518.375000\n",
      " 2850  226708.093750\n",
      " 2851  236793.984375\n",
      " 2852  243035.359375\n",
      " 2853  216746.218750\n",
      " 2854  143604.140625\n",
      " 2855  189231.656250\n",
      " 2856  205624.890625\n",
      " 2857  191607.890625\n",
      " 2858  186526.640625\n",
      " 2859  133714.734375\n",
      " 2860  128520.914062\n",
      " 2861  160062.375000\n",
      " 2862  195328.609375\n",
      " 2863  144249.671875\n",
      " 2864  285344.031250\n",
      " 2865  147077.843750\n",
      " 2866  147561.343750\n",
      " 2867  102171.195312\n",
      " 2868  125054.023438\n",
      " 2869  134383.000000\n",
      " 2870  175582.187500\n",
      " 2871  119088.851562\n",
      " 2872   62216.480469\n",
      " 2873  147231.671875\n",
      " 2874  178480.906250\n",
      " 2875  108616.304688\n",
      " 2876  135084.187500\n",
      " 2877  129566.695312\n",
      " 2878  147636.750000\n",
      " 2879  150784.859375\n",
      " 2880  109659.078125\n",
      " 2881  174216.093750\n",
      " 2882  168426.171875\n",
      " 2883  159228.031250\n",
      " 2884  195500.671875\n",
      " 2885  214416.546875\n",
      " 2886  215229.765625\n",
      " 2887   86152.648438\n",
      " 2888  128825.890625\n",
      " 2889   64753.398438\n",
      " 2890   95380.546875\n",
      " 2891  136485.468750\n",
      " 2892   70097.812500\n",
      " 2893  122628.828125\n",
      " 2894   59077.273438\n",
      " 2895  301541.468750\n",
      " 2896  262106.796875\n",
      " 2897  217040.171875\n",
      " 2898  139722.093750\n",
      " 2899  219171.812500\n",
      " 2900  155496.593750\n",
      " 2901  245413.046875\n",
      " 2902  199507.203125\n",
      " 2903  375660.156250\n",
      " 2904  286074.500000\n",
      " 2905  186686.453125\n",
      " 2906  197388.890625\n",
      " 2907  112445.390625\n",
      " 2908  120333.578125\n",
      " 2909  135185.578125\n",
      " 2910   87101.671875\n",
      " 2911   85261.484375\n",
      " 2912  161293.187500\n",
      " 2913   69096.468750\n",
      " 2914   84676.132812\n",
      " 2915   84676.132812\n",
      " 2916   69096.468750\n",
      " 2917  173318.703125\n",
      " 2918  148891.375000\n",
      " 2919  208725.250000\n"
     ]
    }
   ],
   "source": [
    "print(output.to_string(index=False))"
   ]
  },
  {
   "cell_type": "markdown",
   "metadata": {},
   "source": [
    "### Conclusion"
   ]
  },
  {
   "cell_type": "markdown",
   "metadata": {},
   "source": [
    "This study attempted to predict house prices using a set of features from the Ames Housing Dataset. Relationships explored during EDA indicated the relevance of features in making predictions. The training dataset was used to build several machine learning models and tested on a fraction of the same dataset. Among all the models, XGBoost was picked as the best performing model based on the choosen performance metrics. Finally, the same model was used to make predictions of house prices in the test dataset. A further step in this study may be to build neural nets or more advanced models to see if predictions can be made with even less errors."
   ]
  }
 ],
 "metadata": {
  "kernelspec": {
   "display_name": "Python 3",
   "language": "python",
   "name": "python3"
  },
  "language_info": {
   "codemirror_mode": {
    "name": "ipython",
    "version": 3
   },
   "file_extension": ".py",
   "mimetype": "text/x-python",
   "name": "python",
   "nbconvert_exporter": "python",
   "pygments_lexer": "ipython3",
   "version": "3.8.5"
  }
 },
 "nbformat": 4,
 "nbformat_minor": 4
}
